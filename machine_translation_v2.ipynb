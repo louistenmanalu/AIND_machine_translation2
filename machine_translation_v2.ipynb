{
 "cells": [
  {
   "cell_type": "markdown",
   "metadata": {
    "collapsed": true
   },
   "source": [
    "# Artificial Intelligence Nanodegree\n",
    "## Machine Translation Project\n",
    "In this notebook, sections that end with **'(IMPLEMENTATION)'** in the header indicate that the following blocks of code will require additional functionality which you must provide. Please be sure to read the instructions carefully!\n",
    "\n",
    "## Introduction\n",
    "In this notebook, you will build a deep neural network that functions as part of an end-to-end machine translation pipeline. Your completed pipeline will accept English text as input and return the French translation.\n",
    "\n",
    "- **Preprocess** - You'll convert text to sequence of integers.\n",
    "- **Models** Create models which accepts a sequence of integers as input and returns a probability distribution over possible translations. After learning about the basic types of neural networks that are often used for machine translation, you will engage in your own investigations, to design your own model!\n",
    "- **Prediction** Run the model on English text.\n",
    "\n",
    "## Dataset\n",
    "We begin by investigating the dataset that will be used to train and evaluate your pipeline.  The most common datasets used for machine translation are from [WMT](http://www.statmt.org/).  However, that will take a long time to train a neural network on.  We'll be using a dataset we created for this project that contains a small vocabulary.  You'll be able to train your model in a reasonable time with this dataset.\n",
    "### Load Data\n",
    "The data is located in `data/small_vocab_en` and `data/small_vocab_fr`. The `small_vocab_en` file contains English sentences with their French translations in the `small_vocab_fr` file. Load the English and French data from these files from running the cell below."
   ]
  },
  {
   "cell_type": "code",
   "execution_count": 1,
   "metadata": {
    "collapsed": true
   },
   "outputs": [],
   "source": [
    "import helper\n",
    "\n",
    "\n",
    "# Load English data\n",
    "raw_english_sentences = helper.load_data('data/small_vocab_en')\n",
    "# Load French data\n",
    "raw_french_sentences = helper.load_data('data/small_vocab_fr')"
   ]
  },
  {
   "cell_type": "markdown",
   "metadata": {},
   "source": [
    "### Remove punctuations"
   ]
  },
  {
   "cell_type": "code",
   "execution_count": 2,
   "metadata": {
    "collapsed": true
   },
   "outputs": [],
   "source": [
    "english_sentences = []\n",
    "french_sentences = []\n",
    "\n",
    "for sentence in raw_english_sentences:\n",
    "    sentence = sentence.replace(\".\", \" \")\n",
    "    sentence = sentence.replace(\",\", \" \")\n",
    "    english_sentences.append(sentence)\n",
    "    \n",
    "for sentence in raw_french_sentences:\n",
    "    sentence = sentence.replace(\".\", \" \")\n",
    "    sentence = sentence.replace(\",\", \" \")\n",
    "    french_sentences.append(sentence)"
   ]
  },
  {
   "cell_type": "markdown",
   "metadata": {},
   "source": [
    "### Files\n",
    "Each line in `small_vocab_en` contains an English sentence with the respective translation in each line of `small_vocab_fr`.  View the first two lines from each file."
   ]
  },
  {
   "cell_type": "code",
   "execution_count": 3,
   "metadata": {},
   "outputs": [
    {
     "name": "stdout",
     "output_type": "stream",
     "text": [
      "small_vocab_en Line 1:  new jersey is sometimes quiet during autumn   and it is snowy in april  \n",
      "small_vocab_fr Line 1:  new jersey est parfois calme pendant l' automne   et il est neigeux en avril  \n",
      "small_vocab_en Line 2:  the united states is usually chilly during july   and it is usually freezing in november  \n",
      "small_vocab_fr Line 2:  les états-unis est généralement froid en juillet   et il gèle habituellement en novembre  \n"
     ]
    }
   ],
   "source": [
    "for sample_i in range(2):\n",
    "    print('small_vocab_en Line {}:  {}'.format(sample_i + 1, english_sentences[sample_i]))\n",
    "    print('small_vocab_fr Line {}:  {}'.format(sample_i + 1, french_sentences[sample_i]))"
   ]
  },
  {
   "cell_type": "markdown",
   "metadata": {},
   "source": [
    "### Vocabulary\n",
    "The complexity of the problem is determined by the complexity of the vocabulary.  A more complex vocabulary is a more complex problem.  Let's look at the complexity of the dataset we'll be working with."
   ]
  },
  {
   "cell_type": "code",
   "execution_count": 4,
   "metadata": {},
   "outputs": [
    {
     "name": "stdout",
     "output_type": "stream",
     "text": [
      "1553314 English words.\n",
      "200 unique English words.\n",
      "10 Most common words in the English dataset:\n",
      "\"is\" \"in\" \"it\" \"during\" \"the\" \"but\" \"and\" \"sometimes\" \"usually\" \"never\"\n",
      "\n",
      "1702541 French words.\n",
      "351 unique French words.\n",
      "10 Most common words in the French dataset:\n",
      "\"est\" \"en\" \"il\" \"les\" \"mais\" \"et\" \"la\" \"parfois\" \"jamais\" \"le\"\n"
     ]
    }
   ],
   "source": [
    "import collections\n",
    "english_words_counter = collections.Counter([word for sentence in english_sentences for word in sentence.split()])\n",
    "french_words_counter = collections.Counter([word for sentence in french_sentences for word in sentence.split()])\n",
    "\n",
    "print('{} English words.'.format(len([word for sentence in english_sentences for word in sentence.split()])))\n",
    "print('{} unique English words.'.format(len(english_words_counter)))\n",
    "print('10 Most common words in the English dataset:')\n",
    "print('\"' + '\" \"'.join(list(zip(*english_words_counter.most_common(10)))[0]) + '\"')\n",
    "print()\n",
    "print('{} French words.'.format(len([word for sentence in french_sentences for word in sentence.split()])))\n",
    "print('{} unique French words.'.format(len(french_words_counter)))\n",
    "print('10 Most common words in the French dataset:')\n",
    "print('\"' + '\" \"'.join(list(zip(*french_words_counter.most_common(10)))[0]) + '\"')"
   ]
  },
  {
   "cell_type": "markdown",
   "metadata": {},
   "source": [
    "For comparison, _Alice's Adventures in Wonderland_ contains 2,766 unique words of a total of 15,500 words.\n",
    "## Preprocess\n",
    "For this project, you won't use text data as input to your model. Instead, you'll convert the text into sequences of integers using the following preprocess methods:\n",
    "1. Tokenize the words into ids\n",
    "2. Add padding to make all the sequences the same length.\n",
    "3. Turn the labels into class vectors\n",
    "\n",
    "Time to start preprocessing the data...\n",
    "### Tokenize (IMPLEMENTATION)\n",
    "For a neural network to predict on text data, it first has to be turned into data it can understand. Text data like \"dog\" is a sequence of ASCII character encodings.  Since a neural network is a series of multiplication and addition operations, the input data needs to be number(s).\n",
    "\n",
    "We can turn each character into a number or each word into a number.  These are called character and word ids, respectively.  Character ids are used for character level models that generate text predictions for each character.  A word level model uses word ids that generate text predictions for each word.  Word level models tend to learn better, since they are lower in complexity, so we'll use those.\n",
    "\n",
    "Turn each sentence into a sequence of words ids using Keras's [`Tokenizer`](https://keras.io/preprocessing/text/#tokenizer) function. Use this function to tokenize `english_sentences` and `french_sentences` in the cell below.\n",
    "\n",
    "Running the cell will run `tokenize` on sample data and show output for debugging."
   ]
  },
  {
   "cell_type": "code",
   "execution_count": 5,
   "metadata": {},
   "outputs": [
    {
     "name": "stderr",
     "output_type": "stream",
     "text": [
      "Using TensorFlow backend.\n"
     ]
    },
    {
     "name": "stdout",
     "output_type": "stream",
     "text": [
      "{'won': 4, 'the': 1, 'over': 5, 'is': 6, 'dog': 7, 'jumps': 8, 'quick': 2, 'brown': 9, 'lazy': 10, 'sentence': 11, 'a': 3, 'my': 12, 'study': 13, 'short': 14, 'lexicography': 15, 'of': 16, 'by': 20, 'this': 17, 'jove': 19, 'prize': 18, 'fox': 21}\n",
      "\n",
      "Sample 1\n",
      "  The quick brown fox jumps over the lazy dog .\n",
      "  [1, 2, 9, 21, 8, 5, 1, 10, 7]\n",
      "Sample 2\n",
      "  By Jove , my quick study of lexicography won a prize .\n",
      "  [20, 19, 12, 2, 13, 16, 15, 4, 3, 18]\n",
      "Sample 3\n",
      "  This is a short sentence .\n",
      "  [17, 6, 3, 14, 11]\n"
     ]
    }
   ],
   "source": [
    "from keras.preprocessing.text import Tokenizer\n",
    "\n",
    "\n",
    "def tokenize(x):\n",
    "    \"\"\"\n",
    "    Tokenized data\n",
    "    \"\"\"\n",
    "    # TODO: Implement\n",
    "    MAX_NB_WORDS = len(french_words_counter)\n",
    "    \n",
    "    tokenizer = Tokenizer(num_words=MAX_NB_WORDS)\n",
    "    tokenizer.fit_on_texts(x)\n",
    "    sequences = tokenizer.texts_to_sequences(x)\n",
    "    return sequences, tokenizer\n",
    "\n",
    "# Tokenize Example output\n",
    "text_sentences = [\n",
    "    'The quick brown fox jumps over the lazy dog .',\n",
    "    'By Jove , my quick study of lexicography won a prize .',\n",
    "    'This is a short sentence .']\n",
    "text_tokenized, text_tokenizer = tokenize(text_sentences)\n",
    "print(text_tokenizer.word_index)\n",
    "print()\n",
    "for sample_i, (sent, token_sent) in enumerate(zip(text_sentences, text_tokenized)):\n",
    "    print('Sample {}'.format(sample_i + 1))\n",
    "    print('  {}'.format(sent))\n",
    "    print('  {}'.format(token_sent))"
   ]
  },
  {
   "cell_type": "markdown",
   "metadata": {},
   "source": [
    "### Padding (IMPLEMENTATION)\n",
    "When batching the sequence of word ids together, each sequence needs to be the same length.  Since sentences are dynamic in length, we can add padding to the end of the sequences to make them the same length.\n",
    "\n",
    "Make sure all the English sequences have the same length and all the French sequences have the same length by adding padding to the **end** of each sequence using Keras's [`pad_sequences`](https://keras.io/preprocessing/sequence/#pad_sequences) function."
   ]
  },
  {
   "cell_type": "code",
   "execution_count": 6,
   "metadata": {},
   "outputs": [
    {
     "name": "stdout",
     "output_type": "stream",
     "text": [
      "Sample 1\n",
      "   9 Length - [ 1  2  9 21  8  5  1 10  7]\n",
      "  10 Length - [ 0  1  2  9 21  8  5  1 10  7]\n",
      "Sample 2\n",
      "  10 Length - [20 19 12  2 13 16 15  4  3 18]\n",
      "  10 Length - [20 19 12  2 13 16 15  4  3 18]\n",
      "Sample 3\n",
      "   5 Length - [17  6  3 14 11]\n",
      "  10 Length - [ 0  0  0  0  0 17  6  3 14 11]\n"
     ]
    }
   ],
   "source": [
    "import numpy as np\n",
    "from keras.preprocessing.sequence import pad_sequences\n",
    "\n",
    "\n",
    "def pad(x, length=None):\n",
    "    \"\"\"\n",
    "    Pad data\n",
    "    \"\"\"\n",
    "    # TODO: Implement\n",
    "    x_pad = pad_sequences(x, maxlen=length, dtype='int32')\n",
    "    return x_pad\n",
    "\n",
    "# Pad Tokenized output\n",
    "test_pad = pad(text_tokenized)\n",
    "for sample_i, (token_sent, pad_sent) in enumerate(zip(text_tokenized, test_pad)):\n",
    "    print('Sample {}'.format(sample_i + 1))\n",
    "    print('  {:>2} Length - {}'.format(len(token_sent), np.array(token_sent)))\n",
    "    print('  {:>2} Length - {}'.format(len(pad_sent), pad_sent))"
   ]
  },
  {
   "cell_type": "markdown",
   "metadata": {},
   "source": [
    "### Categorical (IMPLEMENTATION)\n",
    "Since we're predicting on categorical data, we should turn the classes into class vectors using Keras's [`to_categorical`](https://keras.io/utils/#to_categorical) function.  The shape returned by `to_categorical` will lose the sequence length, so You'll have to add back the sequence length using NumPy's `reshape`."
   ]
  },
  {
   "cell_type": "code",
   "execution_count": 7,
   "metadata": {},
   "outputs": [
    {
     "name": "stdout",
     "output_type": "stream",
     "text": [
      "Sample 1\n",
      "[ 0  1  2  9 21  8  5  1 10  7]\n",
      "[[ 1.  0.  0.  0.  0.  0.  0.  0.  0.  0.  0.  0.  0.  0.  0.  0.  0.  0.\n",
      "   0.  0.  0.  0.]\n",
      " [ 0.  1.  0.  0.  0.  0.  0.  0.  0.  0.  0.  0.  0.  0.  0.  0.  0.  0.\n",
      "   0.  0.  0.  0.]\n",
      " [ 0.  0.  1.  0.  0.  0.  0.  0.  0.  0.  0.  0.  0.  0.  0.  0.  0.  0.\n",
      "   0.  0.  0.  0.]\n",
      " [ 0.  0.  0.  0.  0.  0.  0.  0.  0.  1.  0.  0.  0.  0.  0.  0.  0.  0.\n",
      "   0.  0.  0.  0.]\n",
      " [ 0.  0.  0.  0.  0.  0.  0.  0.  0.  0.  0.  0.  0.  0.  0.  0.  0.  0.\n",
      "   0.  0.  0.  1.]\n",
      " [ 0.  0.  0.  0.  0.  0.  0.  0.  1.  0.  0.  0.  0.  0.  0.  0.  0.  0.\n",
      "   0.  0.  0.  0.]\n",
      " [ 0.  0.  0.  0.  0.  1.  0.  0.  0.  0.  0.  0.  0.  0.  0.  0.  0.  0.\n",
      "   0.  0.  0.  0.]\n",
      " [ 0.  1.  0.  0.  0.  0.  0.  0.  0.  0.  0.  0.  0.  0.  0.  0.  0.  0.\n",
      "   0.  0.  0.  0.]\n",
      " [ 0.  0.  0.  0.  0.  0.  0.  0.  0.  0.  1.  0.  0.  0.  0.  0.  0.  0.\n",
      "   0.  0.  0.  0.]\n",
      " [ 0.  0.  0.  0.  0.  0.  0.  1.  0.  0.  0.  0.  0.  0.  0.  0.  0.  0.\n",
      "   0.  0.  0.  0.]]\n",
      "Sample 2\n",
      "[20 19 12  2 13 16 15  4  3 18]\n",
      "[[ 0.  0.  0.  0.  0.  0.  0.  0.  0.  0.  0.  0.  0.  0.  0.  0.  0.  0.\n",
      "   0.  0.  1.  0.]\n",
      " [ 0.  0.  0.  0.  0.  0.  0.  0.  0.  0.  0.  0.  0.  0.  0.  0.  0.  0.\n",
      "   0.  1.  0.  0.]\n",
      " [ 0.  0.  0.  0.  0.  0.  0.  0.  0.  0.  0.  0.  1.  0.  0.  0.  0.  0.\n",
      "   0.  0.  0.  0.]\n",
      " [ 0.  0.  1.  0.  0.  0.  0.  0.  0.  0.  0.  0.  0.  0.  0.  0.  0.  0.\n",
      "   0.  0.  0.  0.]\n",
      " [ 0.  0.  0.  0.  0.  0.  0.  0.  0.  0.  0.  0.  0.  1.  0.  0.  0.  0.\n",
      "   0.  0.  0.  0.]\n",
      " [ 0.  0.  0.  0.  0.  0.  0.  0.  0.  0.  0.  0.  0.  0.  0.  0.  1.  0.\n",
      "   0.  0.  0.  0.]\n",
      " [ 0.  0.  0.  0.  0.  0.  0.  0.  0.  0.  0.  0.  0.  0.  0.  1.  0.  0.\n",
      "   0.  0.  0.  0.]\n",
      " [ 0.  0.  0.  0.  1.  0.  0.  0.  0.  0.  0.  0.  0.  0.  0.  0.  0.  0.\n",
      "   0.  0.  0.  0.]\n",
      " [ 0.  0.  0.  1.  0.  0.  0.  0.  0.  0.  0.  0.  0.  0.  0.  0.  0.  0.\n",
      "   0.  0.  0.  0.]\n",
      " [ 0.  0.  0.  0.  0.  0.  0.  0.  0.  0.  0.  0.  0.  0.  0.  0.  0.  0.\n",
      "   1.  0.  0.  0.]]\n",
      "Sample 3\n",
      "[ 0  0  0  0  0 17  6  3 14 11]\n",
      "[[ 1.  0.  0.  0.  0.  0.  0.  0.  0.  0.  0.  0.  0.  0.  0.  0.  0.  0.\n",
      "   0.  0.  0.  0.]\n",
      " [ 1.  0.  0.  0.  0.  0.  0.  0.  0.  0.  0.  0.  0.  0.  0.  0.  0.  0.\n",
      "   0.  0.  0.  0.]\n",
      " [ 1.  0.  0.  0.  0.  0.  0.  0.  0.  0.  0.  0.  0.  0.  0.  0.  0.  0.\n",
      "   0.  0.  0.  0.]\n",
      " [ 1.  0.  0.  0.  0.  0.  0.  0.  0.  0.  0.  0.  0.  0.  0.  0.  0.  0.\n",
      "   0.  0.  0.  0.]\n",
      " [ 1.  0.  0.  0.  0.  0.  0.  0.  0.  0.  0.  0.  0.  0.  0.  0.  0.  0.\n",
      "   0.  0.  0.  0.]\n",
      " [ 0.  0.  0.  0.  0.  0.  0.  0.  0.  0.  0.  0.  0.  0.  0.  0.  0.  1.\n",
      "   0.  0.  0.  0.]\n",
      " [ 0.  0.  0.  0.  0.  0.  1.  0.  0.  0.  0.  0.  0.  0.  0.  0.  0.  0.\n",
      "   0.  0.  0.  0.]\n",
      " [ 0.  0.  0.  1.  0.  0.  0.  0.  0.  0.  0.  0.  0.  0.  0.  0.  0.  0.\n",
      "   0.  0.  0.  0.]\n",
      " [ 0.  0.  0.  0.  0.  0.  0.  0.  0.  0.  0.  0.  0.  0.  1.  0.  0.  0.\n",
      "   0.  0.  0.  0.]\n",
      " [ 0.  0.  0.  0.  0.  0.  0.  0.  0.  0.  0.  1.  0.  0.  0.  0.  0.  0.\n",
      "   0.  0.  0.  0.]]\n"
     ]
    }
   ],
   "source": [
    "from keras.utils import to_categorical\n",
    "\n",
    "\n",
    "def categorize(x, n_categories):\n",
    "    \"\"\"\n",
    "    Turn data into binary class matrices\n",
    "    \"\"\"\n",
    "    # TODO: Implement\n",
    "    x_shape = x.shape\n",
    "    return to_categorical(x, n_categories).reshape((*x_shape, n_categories))\n",
    "\n",
    "# Categorize Padded output\n",
    "test_categories = categorize(test_pad, len(text_tokenizer.word_index) + 1)\n",
    "for sample_i, (pad_sent, test_categorie) in enumerate(zip(test_pad, test_categories)):\n",
    "    print('Sample {}'.format(sample_i + 1))\n",
    "    print(pad_sent)\n",
    "    print(test_categorie)"
   ]
  },
  {
   "cell_type": "markdown",
   "metadata": {},
   "source": [
    "### Preprocess Pipeline\n",
    "Your focus for this project is to build neural network architecture, so we won't ask you to create a preprocess pipeline.  Instead, we've provided you with the implementation of the `preprocess` function."
   ]
  },
  {
   "cell_type": "code",
   "execution_count": 13,
   "metadata": {
    "collapsed": true
   },
   "outputs": [],
   "source": [
    "def preprocess(x, y):\n",
    "    pad_length = None\n",
    "    preprocess_x, x_tk = tokenize(x)\n",
    "    preprocess_y, y_tk = tokenize(y)\n",
    "\n",
    "    preprocess_x = pad(preprocess_x, pad_length)\n",
    "    preprocess_y = pad(preprocess_y, pad_length)\n",
    "\n",
    "    preprocess_y = categorize(preprocess_y, len(y_tk.word_index) + 1)\n",
    "    \n",
    "    # print shapes\n",
    "#     print(preprocess_x.shape)\n",
    "#     print(preprocess_y.shape)\n",
    "#     print(x_tk.word_index)\n",
    "#     print(y_tk.word_index)\n",
    "    \n",
    "    return preprocess_x, preprocess_y, x_tk, y_tk"
   ]
  },
  {
   "cell_type": "code",
   "execution_count": 9,
   "metadata": {},
   "outputs": [
    {
     "name": "stdout",
     "output_type": "stream",
     "text": [
      "(137861, 15)\n",
      "(137861, 21, 345)\n",
      "{'paris': 18, 'march': 38, 'jersey': 23, 'it': 3, 'may': 40, 'fun': 145, 'winter': 37, 'my': 30, 'she': 26, 'our': 49, 'car': 100, 'snakes': 169, 'quiet': 67, 'strawberry': 82, 'driving': 107, 'mild': 64, 'easy': 147, 'pears': 72, 'have': 198, 'mice': 170, 'pleasant': 52, 'did': 152, 'orange': 83, 'birds': 172, 'dislikes': 69, 'to': 81, 'would': 190, 'think': 149, 'mango': 88, 'field': 182, 'wet': 65, 'disliked': 127, 'monkeys': 173, 'rainy': 63, 'horses': 174, 'going': 126, 'go': 106, 'elephants': 171, 'might': 135, 'fruit': 13, 'dog': 153, 'his': 31, 'your': 29, 'tower': 183, 'store': 184, 'april': 44, 'limes': 73, 'lime': 84, 'truck': 101, 'january': 36, 'china': 25, 'lion': 154, 'france': 24, 'fall': 33, 'peaches': 74, \"didn't\": 181, 'autumn': 39, 'translating': 144, 'liked': 16, 'her': 32, 'eiffel': 185, 'apple': 85, 'united': 21, 'spring': 35, 'november': 45, 'rusty': 111, 'bird': 155, 'states': 20, 'dry': 59, 'lemon': 86, 'grapes': 76, 'california': 22, 'i': 96, 'usually': 9, 'blue': 112, 'plans': 133, 'favorite': 11, 'drove': 128, 'the': 5, 'want': 166, 'you': 98, 'difficult': 146, 'june': 34, 'drives': 129, 'august': 61, 'wonderful': 58, 'new': 17, 'relaxing': 66, 'thinks': 138, 'do': 167, 'bear': 156, 'beautiful': 53, 'cats': 175, 'yellow': 113, 'sharks': 176, 'is': 1, 'lemons': 77, 'grape': 87, 'february': 48, 'busy': 60, 'loved': 15, 'we': 97, 'october': 54, 'apples': 71, 'he': 27, 'plan': 125, 'weather': 193, 'horse': 158, 'old': 114, 'warm': 56, 'translate': 132, 'likes': 70, 'in': 2, 'black': 115, 'french': 139, 'least': 12, 'automobile': 102, 'english': 140, 'but': 6, 'snake': 159, 'september': 42, 'pear': 89, 'sometimes': 8, 'mangoes': 78, 'school': 186, 'dislike': 93, \"aren't\": 191, 'hot': 68, 'am': 195, 'last': 121, 'that': 95, 'cold': 57, 'banana': 90, 'been': 192, \"it's\": 150, 'wanted': 136, 'rabbits': 177, 'white': 116, 'was': 104, 'cat': 160, \"isn't\": 196, 'little': 109, 'chilly': 62, 'nice': 41, 'freezing': 51, 'chinese': 141, 'rabbit': 161, 'red': 117, 'never': 10, 'animals': 122, 'their': 50, 'india': 19, 'green': 118, 'saw': 130, 'bananas': 79, 'visit': 108, 'strawberries': 75, 'wants': 148, 'football': 187, 'went': 137, 'july': 43, 'most': 14, 'they': 94, 'peach': 91, 'were': 134, 'during': 4, 'shiny': 119, 'monkey': 162, 'animal': 99, 'a': 103, 'between': 131, 'next': 105, 'how': 168, 'grocery': 188, 'when': 165, 'where': 199, 'lions': 178, 'dogs': 179, 'feared': 123, 'and': 7, 'like': 92, 'lake': 189, 'big': 110, 'elephant': 157, 'grapefruit': 28, 'this': 124, 'december': 47, 'does': 194, 'spanish': 142, 'snowy': 55, 'bears': 180, 'summer': 46, 'shark': 164, 'mouse': 163, 'oranges': 80, 'has': 197, 'portuguese': 143, 'are': 120, 'why': 151}\n",
      "{'sont': 131, 'chinois': 185, 'jersey': 34, 'dernière': 292, 'et': 6, 'nouveau': 163, 'chiens': 256, 'doux': 58, 'vont': 229, 'juin': 41, 'bien': 249, 'prévoient': 251, 'banane': 83, 'moindres': 322, 'petit': 184, 'vu': 149, \"n'êtes\": 327, 'déteste': 94, 'chine': 36, 'frisquet': 139, 'traduire': 164, 'blanche': 155, 'septembre': 48, 'habituellement': 69, 'voulaient': 238, 'lapins': 257, 'notre': 61, 'conduit': 113, 'lions': 259, 'cépage': 270, 'prochain': 114, 'tu': 330, 'va': 180, 'californie': 62, 'fruit': 16, 'envisage': 178, 'rouillé': 169, 'souris': 201, 'été': 46, 'hiver': 44, 'ses': 170, 'détendre': 241, 'occupée': 138, \"l'automobile\": 244, 'poire': 84, 'lion': 214, 'france': 33, 'plus': 23, 'aime': 55, 'intention': 210, 'visite': 254, 'est': 1, 'temps': 286, 'aimait': 143, 'prévois': 207, \"n'aimons\": 245, \"l'épicerie\": 272, 'bananes': 70, 'pommes': 71, 'mars': 45, 'serpent': 216, 'pousse': 283, 'cher': 119, 'mangue': 80, 'les': 4, 'aimé': 14, 'oiseau': 236, 'nous': 107, 'détestait': 247, 'mouillé': 195, 'vous': 106, 'noire': 153, 'pendant': 37, 'janvier': 43, 'frais': 296, 'préférées': 304, 'cet': 192, 'peu': 284, 'trop': 226, 'pense': 161, 'aux': 173, 'raisin': 82, 'à': 26, 'singe': 217, 'citron': 85, 'pluvieux': 66, 'douce': 306, 'parfois': 8, 'gel': 81, 'le': 10, 'ils': 99, 'elle': 27, 'belle': 104, 'allé': 223, 'pêches': 72, 'février': 53, 'une': 120, 'vieille': 148, 'ne': 105, 'pluie': 225, 'brillant': 154, 'aimez': 130, 'grosses': 319, 'entre': 160, 'raisins': 77, 'glaciales': 190, 'rouille': 287, 'redoutée': 331, 'dernier': 142, 'avril': 50, 'trouvé': 338, 'sec': 63, 'aiment': 124, 'faire': 339, 'cette': 121, 'plaît': 309, 'enneigée': 92, 'merveilleux': 57, 't': 300, 'pêche': 86, 'singes': 258, 'lapin': 219, 'calme': 67, 'redoutés': 222, 'pluies': 177, 'espagnol': 186, 'visiter': 136, 'vert': 182, 'vais': 293, 'prévoyons': 208, 'enneigé': 321, 'comme': 199, 'éléphants': 263, 'volant': 230, 'chat': 215, \"c'est\": 301, 'voudrait': 294, 'facile': 196, 'fraise': 87, 'pas': 91, 'neige': 102, 'préférée': 140, 'chaud': 21, 'printemps': 42, 'congélation': 307, 'pourrait': 202, 'sur': 289, 'froid': 19, 'des': 108, 'au': 15, 'août': 56, 'détestons': 132, 'poires': 73, 'proches': 297, \"n'aiment\": 126, \"n'a\": 311, 'tranquille': 117, 'rouge': 133, 'aimons': 127, 'étaient': 179, 'états': 32, 'chien': 218, 'détestez': 302, 'petits': 315, 'es': 337, 'leur': 64, 'brillante': 174, 'oiseaux': 260, 'en': 2, 'traduis': 332, 'mais': 5, 'généralement': 12, 'agréable': 18, 'pomme': 88, 'français': 187, 'automne': 24, 'voulait': 203, 'pensez': 271, \"l'oiseau\": 261, 'chaude': 125, 'humide': 60, 'préféré': 17, 'favori': 93, 'manguiers': 298, 'apprécié': 333, 'paris': 29, 'un': 144, 'porcelaine': 303, 'légère': 269, 'mes': 191, 'chaux': 89, 'êtes': 295, 'occupé': 65, 'envisagent': 316, 'cheval': 220, 'aimeraient': 312, 'vos': 209, 'chevaux': 262, \"l'orange\": 90, 'sèche': 137, 'monde': 227, 'comment': 255, \"l'animal\": 279, 'terrain': 273, 'noir': 176, 'juillet': 49, 'était': 122, 'pamplemousse': 38, 'la': 7, \"qu'il\": 171, 'mois': 25, 'mangues': 78, 'favoris': 340, 'chats': 264, 'que': 146, 'rendre': 181, 'maillot': 228, 'préférés': 175, 'pourquoi': 205, 'veulent': 239, 'son': 20, 'citrons': 28, 'détend': 334, 'grande': 168, \"n'aimez\": 128, 'as': 341, 'allée': 232, 'mai': 47, 'aller': 123, 'relaxant': 59, 'ce': 115, 'allez': 281, \"l'école\": 274, 'ont': 212, 'conduite': 324, 'etats': 328, \"n'est\": 280, 'octobre': 54, 'jaune': 134, 'aimée': 242, 'magnifique': 243, 'anglais': 188, 'eiffel': 275, 'novembre': 51, 'grand': 248, 'je': 116, 'gelés': 325, 'neigeux': 112, 'california': 101, 'i': 233, 'difficile': 197, 'prévoit': 252, 'leurs': 129, 'inde': 30, 'grandes': 305, 'décembre': 52, 'lac': 276, 'limes': 317, 'new': 35, 'cours': 111, 'portugais': 189, 'grosse': 224, 'nos': 152, 'il': 3, 'pamplemousses': 159, 'gelé': 246, 'moins': 13, 'durant': 308, 'verts': 76, 'camion': 110, 'requins': 265, 'serpents': 266, 'quand': 235, 'blanc': 172, \"l'éléphant\": 267, 'beau': 68, \"j'aime\": 135, 'voulez': 313, 'animaux': 141, 'conduisait': 145, 'allions': 342, 'pleut': 157, 'votre': 40, 'se': 167, 'fruits': 96, \"n'aime\": 100, 'de': 22, 'dans': 310, 'automobile': 193, 'clémentes': 211, 'grands': 318, 'avez': 231, 'voiture': 97, 'gèle': 95, 'gros': 200, 'bénigne': 320, 'verte': 150, 'amusant': 198, 'fraises': 74, 'rouillée': 165, \"qu'elle\": 290, 'ressort': 335, 'requin': 213, 'souvent': 343, 'tour': 277, 'jamais': 9, 'unis': 31, 'vieux': 183, 'redouté': 156, 'moteur': 344, \"l'automne\": 98, 'petites': 291, 'aimés': 206, 'petite': 151, 'mon': 39, 'allés': 234, 'veut': 204, 'allons': 282, 'nouvelle': 147, \"l'\": 11, 'lui': 253, 'football': 278, 'tout': 326, 'du': 285, 'animal': 109, 'bleu': 166, 'a': 118, 'at': 288, 'vit': 329, \"n'aimait\": 158, \"d'\": 79, 'vers': 250, \"l'ours\": 268, 'fait': 103, 'bleue': 162, 'ours': 221, 'éléphant': 237, 'avons': 299, 'où': 314, 'qui': 336, 'pourraient': 240, 'mouillée': 323, 'oranges': 75, 'traduction': 194}\n"
     ]
    },
    {
     "data": {
      "text/plain": [
       "(array([[ 0,  0, 17, ..., 55,  2, 44],\n",
       "        [ 5, 21, 20, ..., 51,  2, 45],\n",
       "        [ 0,  0, 22, ..., 68,  2, 34],\n",
       "        ..., \n",
       "        [ 0,  0, 24, ..., 64,  2, 54],\n",
       "        [ 0,  0,  0, ...,  1, 29, 11],\n",
       "        [ 0,  0,  0, ...,  0,  0,  0]], dtype=int32),\n",
       " array([[[ 1.,  0.,  0., ...,  0.,  0.,  0.],\n",
       "         [ 1.,  0.,  0., ...,  0.,  0.,  0.],\n",
       "         [ 1.,  0.,  0., ...,  0.,  0.,  0.],\n",
       "         ..., \n",
       "         [ 0.,  0.,  0., ...,  0.,  0.,  0.],\n",
       "         [ 0.,  0.,  1., ...,  0.,  0.,  0.],\n",
       "         [ 0.,  0.,  0., ...,  0.,  0.,  0.]],\n",
       " \n",
       "        [[ 1.,  0.,  0., ...,  0.,  0.,  0.],\n",
       "         [ 1.,  0.,  0., ...,  0.,  0.,  0.],\n",
       "         [ 1.,  0.,  0., ...,  0.,  0.,  0.],\n",
       "         ..., \n",
       "         [ 0.,  0.,  0., ...,  0.,  0.,  0.],\n",
       "         [ 0.,  0.,  1., ...,  0.,  0.,  0.],\n",
       "         [ 0.,  0.,  0., ...,  0.,  0.,  0.]],\n",
       " \n",
       "        [[ 1.,  0.,  0., ...,  0.,  0.,  0.],\n",
       "         [ 1.,  0.,  0., ...,  0.,  0.,  0.],\n",
       "         [ 1.,  0.,  0., ...,  0.,  0.,  0.],\n",
       "         ..., \n",
       "         [ 0.,  0.,  0., ...,  0.,  0.,  0.],\n",
       "         [ 0.,  0.,  1., ...,  0.,  0.,  0.],\n",
       "         [ 0.,  0.,  0., ...,  0.,  0.,  0.]],\n",
       " \n",
       "        ..., \n",
       "        [[ 1.,  0.,  0., ...,  0.,  0.,  0.],\n",
       "         [ 1.,  0.,  0., ...,  0.,  0.,  0.],\n",
       "         [ 1.,  0.,  0., ...,  0.,  0.,  0.],\n",
       "         ..., \n",
       "         [ 0.,  0.,  0., ...,  0.,  0.,  0.],\n",
       "         [ 0.,  0.,  1., ...,  0.,  0.,  0.],\n",
       "         [ 0.,  0.,  0., ...,  0.,  0.,  0.]],\n",
       " \n",
       "        [[ 1.,  0.,  0., ...,  0.,  0.,  0.],\n",
       "         [ 1.,  0.,  0., ...,  0.,  0.,  0.],\n",
       "         [ 1.,  0.,  0., ...,  0.,  0.,  0.],\n",
       "         ..., \n",
       "         [ 0.,  1.,  0., ...,  0.,  0.,  0.],\n",
       "         [ 0.,  0.,  0., ...,  0.,  0.,  0.],\n",
       "         [ 0.,  0.,  0., ...,  0.,  0.,  0.]],\n",
       " \n",
       "        [[ 1.,  0.,  0., ...,  0.,  0.,  0.],\n",
       "         [ 1.,  0.,  0., ...,  0.,  0.,  0.],\n",
       "         [ 1.,  0.,  0., ...,  0.,  0.,  0.],\n",
       "         ..., \n",
       "         [ 1.,  0.,  0., ...,  0.,  0.,  0.],\n",
       "         [ 1.,  0.,  0., ...,  0.,  0.,  0.],\n",
       "         [ 1.,  0.,  0., ...,  0.,  0.,  0.]]]),\n",
       " <keras.preprocessing.text.Tokenizer at 0x113a866a0>,\n",
       " <keras.preprocessing.text.Tokenizer at 0x10ca33470>)"
      ]
     },
     "execution_count": 9,
     "metadata": {},
     "output_type": "execute_result"
    }
   ],
   "source": [
    "preprocess(english_sentences, french_sentences)"
   ]
  },
  {
   "cell_type": "markdown",
   "metadata": {},
   "source": [
    "## Models\n",
    "In this section, you will experiment with various neural network architectures.\n",
    "You will begin by training four relatively simple architectures.\n",
    "- Model 1 is a simple RNN\n",
    "- Model 2 is a RNN with Embedding\n",
    "- Model 3 is a Encoder-Decoder\n",
    "- Model 4 is a Bidirectional RNN\n",
    "\n",
    "After experimenting with the four simple architectures, you will construct a deeper architecture that is designed to outperform all four models.\n",
    "\n",
    "Each model will want the input in a different form.  While you did preprocess the English sentences, you'll have to add additional padding and/or reshape it to 3 dimensions for the right situation.\n",
    "### Model 1: RNN (IMPLEMENTATION)\n",
    "![RNN](images/rnn.png)\n",
    "A basic RNN model is a good baseline for sequence data.  In this model, you'll build a RNN that translates English to French."
   ]
  },
  {
   "cell_type": "code",
   "execution_count": 21,
   "metadata": {},
   "outputs": [
    {
     "name": "stdout",
     "output_type": "stream",
     "text": [
      "_________________________________________________________________\n",
      "Layer (type)                 Output Shape              Param #   \n",
      "=================================================================\n",
      "gru_6 (GRU)                  (None, 512)               789504    \n",
      "_________________________________________________________________\n",
      "dense_4 (Dense)              (None, 345)               176985    \n",
      "_________________________________________________________________\n",
      "activation_4 (Activation)    (None, 345)               0         \n",
      "=================================================================\n",
      "Total params: 966,489.0\n",
      "Trainable params: 966,489.0\n",
      "Non-trainable params: 0.0\n",
      "_________________________________________________________________\n"
     ]
    },
    {
     "data": {
      "text/plain": [
       "<keras.models.Sequential at 0x10f92a908>"
      ]
     },
     "execution_count": 21,
     "metadata": {},
     "output_type": "execute_result"
    }
   ],
   "source": [
    "import numpy as np\n",
    "\n",
    "from keras.models import Sequential\n",
    "from keras.layers import GRU, Input, Dense, TimeDistributed\n",
    "from keras.models import Model\n",
    "from keras.layers import Activation\n",
    "from keras.optimizers import Adam\n",
    "\n",
    "\n",
    "def model_one(x, y, x_tk, y_tk):\n",
    "    x = np.reshape(x, x.shape + (1,))\n",
    "    model = Sequential()\n",
    "    model.add(GRU(512, return_sequences=False, input_shape=x.shape[1:]))\n",
    "    model.add(Dense(345))\n",
    "    model.add(Activation('softmax'))\n",
    "    model.compile(loss='categorical_crossentropy', optimizer='adam', metrics=['accuracy'])\n",
    "    model.summary()\n",
    "    \n",
    "    return model\n",
    "    \n",
    "model_one(*preprocess(english_sentences, french_sentences))"
   ]
  },
  {
   "cell_type": "markdown",
   "metadata": {},
   "source": [
    "### Model 2: Embedding (IMPLEMENTATION)\n",
    "![RNN](images/embedding.png)\n",
    "You've turned the words into ids, but there's a better representation of a word.  This is called word embeddings.  An embedding is a vector representation of the word that is close to similar words in n-dimensional space, where the n represents the size of the embedding vectors.\n",
    "\n",
    "In this model, you'll create a RNN model using embedding."
   ]
  },
  {
   "cell_type": "code",
   "execution_count": 22,
   "metadata": {},
   "outputs": [
    {
     "name": "stdout",
     "output_type": "stream",
     "text": [
      "_________________________________________________________________\n",
      "Layer (type)                 Output Shape              Param #   \n",
      "=================================================================\n",
      "embedding_1 (Embedding)      (None, 15, 345)           69000     \n",
      "_________________________________________________________________\n",
      "gru_7 (GRU)                  (None, 512)               1317888   \n",
      "_________________________________________________________________\n",
      "dense_5 (Dense)              (None, 345)               176985    \n",
      "_________________________________________________________________\n",
      "activation_5 (Activation)    (None, 345)               0         \n",
      "=================================================================\n",
      "Total params: 1,563,873.0\n",
      "Trainable params: 1,563,873.0\n",
      "Non-trainable params: 0.0\n",
      "_________________________________________________________________\n"
     ]
    },
    {
     "data": {
      "text/plain": [
       "<keras.models.Sequential at 0x116cb4128>"
      ]
     },
     "execution_count": 22,
     "metadata": {},
     "output_type": "execute_result"
    }
   ],
   "source": [
    "from keras.layers.embeddings import Embedding\n",
    "\n",
    "\n",
    "def model_two(x, y, x_tk, y_tk):\n",
    "    # TODO: Implement\n",
    "    model = Sequential()\n",
    "    model.add(Embedding(input_dim = 200, output_dim=345, input_length=15, mask_zero=True))\n",
    "    model.add(GRU(512))\n",
    "    model.add(Dense(y.shape[2]))\n",
    "    model.add(Activation('softmax'))\n",
    "    model.compile(loss='categorical_crossentropy', optimizer='adam', metrics=['accuracy'])\n",
    "    model.summary()\n",
    "    \n",
    "    return model\n",
    "\n",
    "\n",
    "model_two(*preprocess(english_sentences, french_sentences))"
   ]
  },
  {
   "cell_type": "markdown",
   "metadata": {},
   "source": [
    "### Model 3: Encoder-Decoder (IMPLEMENTATION)\n",
    "![RNN](images/encoder_decoder.png)\n",
    "Time to look at encoder-decoder models.  This model is made up of an encoder and decoder. The encoder creates a matrix representation of the sentence.  The decoder takes this matrix as input and predicts the translation as output.\n",
    "\n",
    "Create an encoder-decoder model in the cell below."
   ]
  },
  {
   "cell_type": "code",
   "execution_count": 23,
   "metadata": {},
   "outputs": [
    {
     "name": "stdout",
     "output_type": "stream",
     "text": [
      "_________________________________________________________________\n",
      "Layer (type)                 Output Shape              Param #   \n",
      "=================================================================\n",
      "embedding_2 (Embedding)      (None, 15, 351)           70200     \n",
      "_________________________________________________________________\n",
      "gru_8 (GRU)                  (None, 512)               1327104   \n",
      "_________________________________________________________________\n",
      "repeat_vector_1 (RepeatVecto (None, 21, 512)           0         \n",
      "_________________________________________________________________\n",
      "gru_9 (GRU)                  (None, 21, 512)           1574400   \n",
      "_________________________________________________________________\n",
      "time_distributed_1 (TimeDist (None, 21, 345)           176985    \n",
      "_________________________________________________________________\n",
      "activation_6 (Activation)    (None, 21, 345)           0         \n",
      "=================================================================\n",
      "Total params: 3,148,689.0\n",
      "Trainable params: 3,148,689.0\n",
      "Non-trainable params: 0.0\n",
      "_________________________________________________________________\n"
     ]
    },
    {
     "data": {
      "text/plain": [
       "<keras.models.Sequential at 0x10bbfef60>"
      ]
     },
     "execution_count": 23,
     "metadata": {},
     "output_type": "execute_result"
    }
   ],
   "source": [
    "from keras.layers import RepeatVector\n",
    "\n",
    "\n",
    "def model_three(x, y, x_tk, y_tk):\n",
    "    # TODO: Implement\n",
    "    \n",
    "    # encoder\n",
    "    model = Sequential()\n",
    "    model.add(Embedding(input_dim = 200, output_dim=351, input_length=15, mask_zero=True))\n",
    "    model.add(GRU(512, return_sequences=False))\n",
    "    \n",
    "    # decoder\n",
    "    model.add(RepeatVector(21))\n",
    "    model.add(GRU(512, return_sequences=True))\n",
    "    model.add(TimeDistributed(Dense(345)))\n",
    "    model.add(Activation('softmax'))\n",
    "    \n",
    "    # compile model\n",
    "    model.compile(loss='categorical_crossentropy', optimizer='adam', metrics=['accuracy'])\n",
    "    model.summary()\n",
    "    \n",
    "    return model\n",
    "\n",
    "\n",
    "model_three(*preprocess(english_sentences, french_sentences))"
   ]
  },
  {
   "cell_type": "markdown",
   "metadata": {},
   "source": [
    "### Model 4: Bidirectional RNNs (IMPLEMENTATION)\n",
    "![RNN](images/bidirectional.png)\n",
    "One restriction of a RNN is that it can't see the future input, only the past.  This is where bidirectional recurrent neural networks come in.  They are able to see the future data."
   ]
  },
  {
   "cell_type": "code",
   "execution_count": 24,
   "metadata": {},
   "outputs": [
    {
     "name": "stdout",
     "output_type": "stream",
     "text": [
      "_________________________________________________________________\n",
      "Layer (type)                 Output Shape              Param #   \n",
      "=================================================================\n",
      "bidirectional_1 (Bidirection (None, 1024)              1622016   \n",
      "_________________________________________________________________\n",
      "activation_7 (Activation)    (None, 1024)              0         \n",
      "=================================================================\n",
      "Total params: 1,622,016.0\n",
      "Trainable params: 1,622,016.0\n",
      "Non-trainable params: 0.0\n",
      "_________________________________________________________________\n"
     ]
    },
    {
     "data": {
      "text/plain": [
       "<keras.models.Sequential at 0x115802278>"
      ]
     },
     "execution_count": 24,
     "metadata": {},
     "output_type": "execute_result"
    }
   ],
   "source": [
    "from keras.layers import Bidirectional\n",
    "\n",
    "\n",
    "def model_four(x, y, x_tk, y_tk):\n",
    "    # TODO: Implement\n",
    "    model = Sequential()\n",
    "    model.add(Bidirectional(GRU(512), input_shape=(137861, 15)))\n",
    "    model.add(Activation('softmax'))\n",
    "    model.compile(loss='categorical_crossentropy', optimizer='adam', metrics=['accuracy'])\n",
    "    model.summary()\n",
    "    \n",
    "    return model\n",
    "\n",
    "model_four(*preprocess(english_sentences, french_sentences))"
   ]
  },
  {
   "cell_type": "markdown",
   "metadata": {},
   "source": [
    "### Model 5: Custom (IMPLEMENTATION)\n",
    "Use everything you learned from the previous 4 models to create a model that incorporates embedding, encoder-decoder, and bidirectional rnn into one model."
   ]
  },
  {
   "cell_type": "code",
   "execution_count": 27,
   "metadata": {},
   "outputs": [
    {
     "name": "stdout",
     "output_type": "stream",
     "text": [
      "_________________________________________________________________\n",
      "Layer (type)                 Output Shape              Param #   \n",
      "=================================================================\n",
      "embedding_4 (Embedding)      (None, 15, 345)           69000     \n",
      "_________________________________________________________________\n",
      "bidirectional_3 (Bidirection (None, 1024)              2635776   \n",
      "_________________________________________________________________\n",
      "repeat_vector_3 (RepeatVecto (None, 21, 1024)          0         \n",
      "_________________________________________________________________\n",
      "gru_14 (GRU)                 (None, 21, 512)           2360832   \n",
      "_________________________________________________________________\n",
      "time_distributed_3 (TimeDist (None, 21, 345)           176985    \n",
      "_________________________________________________________________\n",
      "activation_9 (Activation)    (None, 21, 345)           0         \n",
      "=================================================================\n",
      "Total params: 5,242,593.0\n",
      "Trainable params: 5,242,593.0\n",
      "Non-trainable params: 0.0\n",
      "_________________________________________________________________\n",
      "Epoch 1/10\n",
      "  2048/137861 [..............................] - ETA: 2091s - loss: 3.1825"
     ]
    },
    {
     "ename": "KeyboardInterrupt",
     "evalue": "",
     "output_type": "error",
     "traceback": [
      "\u001b[0;31m---------------------------------------------------------------------------\u001b[0m",
      "\u001b[0;31mKeyboardInterrupt\u001b[0m                         Traceback (most recent call last)",
      "\u001b[0;32m<ipython-input-27-9079174f13f6>\u001b[0m in \u001b[0;36m<module>\u001b[0;34m()\u001b[0m\n\u001b[1;32m     19\u001b[0m     \u001b[0;32mreturn\u001b[0m \u001b[0mmodel\u001b[0m\u001b[0;34m\u001b[0m\u001b[0m\n\u001b[1;32m     20\u001b[0m \u001b[0;34m\u001b[0m\u001b[0m\n\u001b[0;32m---> 21\u001b[0;31m \u001b[0mmodel_final\u001b[0m\u001b[0;34m(\u001b[0m\u001b[0;34m*\u001b[0m\u001b[0mpreprocess\u001b[0m\u001b[0;34m(\u001b[0m\u001b[0menglish_sentences\u001b[0m\u001b[0;34m,\u001b[0m \u001b[0mfrench_sentences\u001b[0m\u001b[0;34m)\u001b[0m\u001b[0;34m)\u001b[0m\u001b[0;34m\u001b[0m\u001b[0m\n\u001b[0m",
      "\u001b[0;32m<ipython-input-27-9079174f13f6>\u001b[0m in \u001b[0;36mmodel_final\u001b[0;34m(x, y, x_tk, y_tk)\u001b[0m\n\u001b[1;32m     15\u001b[0m     \u001b[0mmodel\u001b[0m\u001b[0;34m.\u001b[0m\u001b[0mcompile\u001b[0m\u001b[0;34m(\u001b[0m\u001b[0mloss\u001b[0m\u001b[0;34m=\u001b[0m\u001b[0;34m'categorical_crossentropy'\u001b[0m\u001b[0;34m,\u001b[0m \u001b[0moptimizer\u001b[0m\u001b[0;34m=\u001b[0m\u001b[0;34m'adam'\u001b[0m\u001b[0;34m)\u001b[0m\u001b[0;34m\u001b[0m\u001b[0m\n\u001b[1;32m     16\u001b[0m     \u001b[0mmodel\u001b[0m\u001b[0;34m.\u001b[0m\u001b[0msummary\u001b[0m\u001b[0;34m(\u001b[0m\u001b[0;34m)\u001b[0m\u001b[0;34m\u001b[0m\u001b[0m\n\u001b[0;32m---> 17\u001b[0;31m     \u001b[0mmodel\u001b[0m\u001b[0;34m.\u001b[0m\u001b[0mfit\u001b[0m\u001b[0;34m(\u001b[0m\u001b[0mx\u001b[0m\u001b[0;34m,\u001b[0m \u001b[0my\u001b[0m\u001b[0;34m,\u001b[0m \u001b[0mbatch_size\u001b[0m\u001b[0;34m=\u001b[0m\u001b[0;36m32\u001b[0m\u001b[0;34m,\u001b[0m \u001b[0mepochs\u001b[0m\u001b[0;34m=\u001b[0m\u001b[0;36m10\u001b[0m\u001b[0;34m,\u001b[0m \u001b[0mverbose\u001b[0m\u001b[0;34m=\u001b[0m\u001b[0;36m1\u001b[0m\u001b[0;34m,\u001b[0m \u001b[0mcallbacks\u001b[0m\u001b[0;34m=\u001b[0m\u001b[0;32mNone\u001b[0m\u001b[0;34m,\u001b[0m \u001b[0mvalidation_split\u001b[0m\u001b[0;34m=\u001b[0m\u001b[0;36m0.0\u001b[0m\u001b[0;34m,\u001b[0m \u001b[0mvalidation_data\u001b[0m\u001b[0;34m=\u001b[0m\u001b[0;32mNone\u001b[0m\u001b[0;34m,\u001b[0m \u001b[0mshuffle\u001b[0m\u001b[0;34m=\u001b[0m\u001b[0;32mTrue\u001b[0m\u001b[0;34m,\u001b[0m \u001b[0mclass_weight\u001b[0m\u001b[0;34m=\u001b[0m\u001b[0;32mNone\u001b[0m\u001b[0;34m,\u001b[0m \u001b[0msample_weight\u001b[0m\u001b[0;34m=\u001b[0m\u001b[0;32mNone\u001b[0m\u001b[0;34m,\u001b[0m \u001b[0minitial_epoch\u001b[0m\u001b[0;34m=\u001b[0m\u001b[0;36m0\u001b[0m\u001b[0;34m)\u001b[0m\u001b[0;34m\u001b[0m\u001b[0m\n\u001b[0m\u001b[1;32m     18\u001b[0m \u001b[0;34m\u001b[0m\u001b[0m\n\u001b[1;32m     19\u001b[0m     \u001b[0;32mreturn\u001b[0m \u001b[0mmodel\u001b[0m\u001b[0;34m\u001b[0m\u001b[0m\n",
      "\u001b[0;32m/Users/rhoesada/anaconda/envs/aind-dl/lib/python3.5/site-packages/keras/models.py\u001b[0m in \u001b[0;36mfit\u001b[0;34m(self, x, y, batch_size, epochs, verbose, callbacks, validation_split, validation_data, shuffle, class_weight, sample_weight, initial_epoch, **kwargs)\u001b[0m\n\u001b[1;32m    843\u001b[0m                               \u001b[0mclass_weight\u001b[0m\u001b[0;34m=\u001b[0m\u001b[0mclass_weight\u001b[0m\u001b[0;34m,\u001b[0m\u001b[0;34m\u001b[0m\u001b[0m\n\u001b[1;32m    844\u001b[0m                               \u001b[0msample_weight\u001b[0m\u001b[0;34m=\u001b[0m\u001b[0msample_weight\u001b[0m\u001b[0;34m,\u001b[0m\u001b[0;34m\u001b[0m\u001b[0m\n\u001b[0;32m--> 845\u001b[0;31m                               initial_epoch=initial_epoch)\n\u001b[0m\u001b[1;32m    846\u001b[0m \u001b[0;34m\u001b[0m\u001b[0m\n\u001b[1;32m    847\u001b[0m     def evaluate(self, x, y, batch_size=32, verbose=1,\n",
      "\u001b[0;32m/Users/rhoesada/anaconda/envs/aind-dl/lib/python3.5/site-packages/keras/engine/training.py\u001b[0m in \u001b[0;36mfit\u001b[0;34m(self, x, y, batch_size, epochs, verbose, callbacks, validation_split, validation_data, shuffle, class_weight, sample_weight, initial_epoch, **kwargs)\u001b[0m\n\u001b[1;32m   1483\u001b[0m                               \u001b[0mval_f\u001b[0m\u001b[0;34m=\u001b[0m\u001b[0mval_f\u001b[0m\u001b[0;34m,\u001b[0m \u001b[0mval_ins\u001b[0m\u001b[0;34m=\u001b[0m\u001b[0mval_ins\u001b[0m\u001b[0;34m,\u001b[0m \u001b[0mshuffle\u001b[0m\u001b[0;34m=\u001b[0m\u001b[0mshuffle\u001b[0m\u001b[0;34m,\u001b[0m\u001b[0;34m\u001b[0m\u001b[0m\n\u001b[1;32m   1484\u001b[0m                               \u001b[0mcallback_metrics\u001b[0m\u001b[0;34m=\u001b[0m\u001b[0mcallback_metrics\u001b[0m\u001b[0;34m,\u001b[0m\u001b[0;34m\u001b[0m\u001b[0m\n\u001b[0;32m-> 1485\u001b[0;31m                               initial_epoch=initial_epoch)\n\u001b[0m\u001b[1;32m   1486\u001b[0m \u001b[0;34m\u001b[0m\u001b[0m\n\u001b[1;32m   1487\u001b[0m     \u001b[0;32mdef\u001b[0m \u001b[0mevaluate\u001b[0m\u001b[0;34m(\u001b[0m\u001b[0mself\u001b[0m\u001b[0;34m,\u001b[0m \u001b[0mx\u001b[0m\u001b[0;34m,\u001b[0m \u001b[0my\u001b[0m\u001b[0;34m,\u001b[0m \u001b[0mbatch_size\u001b[0m\u001b[0;34m=\u001b[0m\u001b[0;36m32\u001b[0m\u001b[0;34m,\u001b[0m \u001b[0mverbose\u001b[0m\u001b[0;34m=\u001b[0m\u001b[0;36m1\u001b[0m\u001b[0;34m,\u001b[0m \u001b[0msample_weight\u001b[0m\u001b[0;34m=\u001b[0m\u001b[0;32mNone\u001b[0m\u001b[0;34m)\u001b[0m\u001b[0;34m:\u001b[0m\u001b[0;34m\u001b[0m\u001b[0m\n",
      "\u001b[0;32m/Users/rhoesada/anaconda/envs/aind-dl/lib/python3.5/site-packages/keras/engine/training.py\u001b[0m in \u001b[0;36m_fit_loop\u001b[0;34m(self, f, ins, out_labels, batch_size, epochs, verbose, callbacks, val_f, val_ins, shuffle, callback_metrics, initial_epoch)\u001b[0m\n\u001b[1;32m   1138\u001b[0m                 \u001b[0mbatch_logs\u001b[0m\u001b[0;34m[\u001b[0m\u001b[0;34m'size'\u001b[0m\u001b[0;34m]\u001b[0m \u001b[0;34m=\u001b[0m \u001b[0mlen\u001b[0m\u001b[0;34m(\u001b[0m\u001b[0mbatch_ids\u001b[0m\u001b[0;34m)\u001b[0m\u001b[0;34m\u001b[0m\u001b[0m\n\u001b[1;32m   1139\u001b[0m                 \u001b[0mcallbacks\u001b[0m\u001b[0;34m.\u001b[0m\u001b[0mon_batch_begin\u001b[0m\u001b[0;34m(\u001b[0m\u001b[0mbatch_index\u001b[0m\u001b[0;34m,\u001b[0m \u001b[0mbatch_logs\u001b[0m\u001b[0;34m)\u001b[0m\u001b[0;34m\u001b[0m\u001b[0m\n\u001b[0;32m-> 1140\u001b[0;31m                 \u001b[0mouts\u001b[0m \u001b[0;34m=\u001b[0m \u001b[0mf\u001b[0m\u001b[0;34m(\u001b[0m\u001b[0mins_batch\u001b[0m\u001b[0;34m)\u001b[0m\u001b[0;34m\u001b[0m\u001b[0m\n\u001b[0m\u001b[1;32m   1141\u001b[0m                 \u001b[0;32mif\u001b[0m \u001b[0;32mnot\u001b[0m \u001b[0misinstance\u001b[0m\u001b[0;34m(\u001b[0m\u001b[0mouts\u001b[0m\u001b[0;34m,\u001b[0m \u001b[0mlist\u001b[0m\u001b[0;34m)\u001b[0m\u001b[0;34m:\u001b[0m\u001b[0;34m\u001b[0m\u001b[0m\n\u001b[1;32m   1142\u001b[0m                     \u001b[0mouts\u001b[0m \u001b[0;34m=\u001b[0m \u001b[0;34m[\u001b[0m\u001b[0mouts\u001b[0m\u001b[0;34m]\u001b[0m\u001b[0;34m\u001b[0m\u001b[0m\n",
      "\u001b[0;32m/Users/rhoesada/anaconda/envs/aind-dl/lib/python3.5/site-packages/keras/backend/tensorflow_backend.py\u001b[0m in \u001b[0;36m__call__\u001b[0;34m(self, inputs)\u001b[0m\n\u001b[1;32m   2071\u001b[0m         \u001b[0msession\u001b[0m \u001b[0;34m=\u001b[0m \u001b[0mget_session\u001b[0m\u001b[0;34m(\u001b[0m\u001b[0;34m)\u001b[0m\u001b[0;34m\u001b[0m\u001b[0m\n\u001b[1;32m   2072\u001b[0m         updated = session.run(self.outputs + [self.updates_op],\n\u001b[0;32m-> 2073\u001b[0;31m                               feed_dict=feed_dict)\n\u001b[0m\u001b[1;32m   2074\u001b[0m         \u001b[0;32mreturn\u001b[0m \u001b[0mupdated\u001b[0m\u001b[0;34m[\u001b[0m\u001b[0;34m:\u001b[0m\u001b[0mlen\u001b[0m\u001b[0;34m(\u001b[0m\u001b[0mself\u001b[0m\u001b[0;34m.\u001b[0m\u001b[0moutputs\u001b[0m\u001b[0;34m)\u001b[0m\u001b[0;34m]\u001b[0m\u001b[0;34m\u001b[0m\u001b[0m\n\u001b[1;32m   2075\u001b[0m \u001b[0;34m\u001b[0m\u001b[0m\n",
      "\u001b[0;32m/Users/rhoesada/anaconda/envs/aind-dl/lib/python3.5/site-packages/tensorflow/python/client/session.py\u001b[0m in \u001b[0;36mrun\u001b[0;34m(self, fetches, feed_dict, options, run_metadata)\u001b[0m\n\u001b[1;32m    765\u001b[0m     \u001b[0;32mtry\u001b[0m\u001b[0;34m:\u001b[0m\u001b[0;34m\u001b[0m\u001b[0m\n\u001b[1;32m    766\u001b[0m       result = self._run(None, fetches, feed_dict, options_ptr,\n\u001b[0;32m--> 767\u001b[0;31m                          run_metadata_ptr)\n\u001b[0m\u001b[1;32m    768\u001b[0m       \u001b[0;32mif\u001b[0m \u001b[0mrun_metadata\u001b[0m\u001b[0;34m:\u001b[0m\u001b[0;34m\u001b[0m\u001b[0m\n\u001b[1;32m    769\u001b[0m         \u001b[0mproto_data\u001b[0m \u001b[0;34m=\u001b[0m \u001b[0mtf_session\u001b[0m\u001b[0;34m.\u001b[0m\u001b[0mTF_GetBuffer\u001b[0m\u001b[0;34m(\u001b[0m\u001b[0mrun_metadata_ptr\u001b[0m\u001b[0;34m)\u001b[0m\u001b[0;34m\u001b[0m\u001b[0m\n",
      "\u001b[0;32m/Users/rhoesada/anaconda/envs/aind-dl/lib/python3.5/site-packages/tensorflow/python/client/session.py\u001b[0m in \u001b[0;36m_run\u001b[0;34m(self, handle, fetches, feed_dict, options, run_metadata)\u001b[0m\n\u001b[1;32m    963\u001b[0m     \u001b[0;32mif\u001b[0m \u001b[0mfinal_fetches\u001b[0m \u001b[0;32mor\u001b[0m \u001b[0mfinal_targets\u001b[0m\u001b[0;34m:\u001b[0m\u001b[0;34m\u001b[0m\u001b[0m\n\u001b[1;32m    964\u001b[0m       results = self._do_run(handle, final_targets, final_fetches,\n\u001b[0;32m--> 965\u001b[0;31m                              feed_dict_string, options, run_metadata)\n\u001b[0m\u001b[1;32m    966\u001b[0m     \u001b[0;32melse\u001b[0m\u001b[0;34m:\u001b[0m\u001b[0;34m\u001b[0m\u001b[0m\n\u001b[1;32m    967\u001b[0m       \u001b[0mresults\u001b[0m \u001b[0;34m=\u001b[0m \u001b[0;34m[\u001b[0m\u001b[0;34m]\u001b[0m\u001b[0;34m\u001b[0m\u001b[0m\n",
      "\u001b[0;32m/Users/rhoesada/anaconda/envs/aind-dl/lib/python3.5/site-packages/tensorflow/python/client/session.py\u001b[0m in \u001b[0;36m_do_run\u001b[0;34m(self, handle, target_list, fetch_list, feed_dict, options, run_metadata)\u001b[0m\n\u001b[1;32m   1013\u001b[0m     \u001b[0;32mif\u001b[0m \u001b[0mhandle\u001b[0m \u001b[0;32mis\u001b[0m \u001b[0;32mNone\u001b[0m\u001b[0;34m:\u001b[0m\u001b[0;34m\u001b[0m\u001b[0m\n\u001b[1;32m   1014\u001b[0m       return self._do_call(_run_fn, self._session, feed_dict, fetch_list,\n\u001b[0;32m-> 1015\u001b[0;31m                            target_list, options, run_metadata)\n\u001b[0m\u001b[1;32m   1016\u001b[0m     \u001b[0;32melse\u001b[0m\u001b[0;34m:\u001b[0m\u001b[0;34m\u001b[0m\u001b[0m\n\u001b[1;32m   1017\u001b[0m       return self._do_call(_prun_fn, self._session, handle, feed_dict,\n",
      "\u001b[0;32m/Users/rhoesada/anaconda/envs/aind-dl/lib/python3.5/site-packages/tensorflow/python/client/session.py\u001b[0m in \u001b[0;36m_do_call\u001b[0;34m(self, fn, *args)\u001b[0m\n\u001b[1;32m   1020\u001b[0m   \u001b[0;32mdef\u001b[0m \u001b[0m_do_call\u001b[0m\u001b[0;34m(\u001b[0m\u001b[0mself\u001b[0m\u001b[0;34m,\u001b[0m \u001b[0mfn\u001b[0m\u001b[0;34m,\u001b[0m \u001b[0;34m*\u001b[0m\u001b[0margs\u001b[0m\u001b[0;34m)\u001b[0m\u001b[0;34m:\u001b[0m\u001b[0;34m\u001b[0m\u001b[0m\n\u001b[1;32m   1021\u001b[0m     \u001b[0;32mtry\u001b[0m\u001b[0;34m:\u001b[0m\u001b[0;34m\u001b[0m\u001b[0m\n\u001b[0;32m-> 1022\u001b[0;31m       \u001b[0;32mreturn\u001b[0m \u001b[0mfn\u001b[0m\u001b[0;34m(\u001b[0m\u001b[0;34m*\u001b[0m\u001b[0margs\u001b[0m\u001b[0;34m)\u001b[0m\u001b[0;34m\u001b[0m\u001b[0m\n\u001b[0m\u001b[1;32m   1023\u001b[0m     \u001b[0;32mexcept\u001b[0m \u001b[0merrors\u001b[0m\u001b[0;34m.\u001b[0m\u001b[0mOpError\u001b[0m \u001b[0;32mas\u001b[0m \u001b[0me\u001b[0m\u001b[0;34m:\u001b[0m\u001b[0;34m\u001b[0m\u001b[0m\n\u001b[1;32m   1024\u001b[0m       \u001b[0mmessage\u001b[0m \u001b[0;34m=\u001b[0m \u001b[0mcompat\u001b[0m\u001b[0;34m.\u001b[0m\u001b[0mas_text\u001b[0m\u001b[0;34m(\u001b[0m\u001b[0me\u001b[0m\u001b[0;34m.\u001b[0m\u001b[0mmessage\u001b[0m\u001b[0;34m)\u001b[0m\u001b[0;34m\u001b[0m\u001b[0m\n",
      "\u001b[0;32m/Users/rhoesada/anaconda/envs/aind-dl/lib/python3.5/site-packages/tensorflow/python/client/session.py\u001b[0m in \u001b[0;36m_run_fn\u001b[0;34m(session, feed_dict, fetch_list, target_list, options, run_metadata)\u001b[0m\n\u001b[1;32m   1002\u001b[0m         return tf_session.TF_Run(session, options,\n\u001b[1;32m   1003\u001b[0m                                  \u001b[0mfeed_dict\u001b[0m\u001b[0;34m,\u001b[0m \u001b[0mfetch_list\u001b[0m\u001b[0;34m,\u001b[0m \u001b[0mtarget_list\u001b[0m\u001b[0;34m,\u001b[0m\u001b[0;34m\u001b[0m\u001b[0m\n\u001b[0;32m-> 1004\u001b[0;31m                                  status, run_metadata)\n\u001b[0m\u001b[1;32m   1005\u001b[0m \u001b[0;34m\u001b[0m\u001b[0m\n\u001b[1;32m   1006\u001b[0m     \u001b[0;32mdef\u001b[0m \u001b[0m_prun_fn\u001b[0m\u001b[0;34m(\u001b[0m\u001b[0msession\u001b[0m\u001b[0;34m,\u001b[0m \u001b[0mhandle\u001b[0m\u001b[0;34m,\u001b[0m \u001b[0mfeed_dict\u001b[0m\u001b[0;34m,\u001b[0m \u001b[0mfetch_list\u001b[0m\u001b[0;34m)\u001b[0m\u001b[0;34m:\u001b[0m\u001b[0;34m\u001b[0m\u001b[0m\n",
      "\u001b[0;31mKeyboardInterrupt\u001b[0m: "
     ]
    }
   ],
   "source": [
    "def model_final(x, y, x_tk, y_tk):\n",
    "    # TODO: Implement\n",
    "    \n",
    "    # encoder\n",
    "    model = Sequential()\n",
    "    model.add(Embedding(input_dim = 200, output_dim=345, input_length=15, mask_zero=True))\n",
    "    model.add(Bidirectional(GRU(512, return_sequences=False)))\n",
    "    \n",
    "    # decoder\n",
    "    model.add(RepeatVector(21))\n",
    "    model.add(GRU(512, return_sequences=True))\n",
    "    model.add(TimeDistributed(Dense(345)))\n",
    "    model.add(Activation('softmax'))\n",
    "    \n",
    "    model.compile(loss='categorical_crossentropy', optimizer='adam')\n",
    "    model.summary()\n",
    "    model.fit(x, y, batch_size=32, epochs=10, verbose=1, callbacks=None, validation_split=0.0, validation_data=None, shuffle=True, class_weight=None, sample_weight=None, initial_epoch=0)\n",
    "    \n",
    "    return model\n",
    "    \n",
    "model_final(*preprocess(english_sentences, french_sentences))"
   ]
  },
  {
   "cell_type": "markdown",
   "metadata": {},
   "source": [
    "## Prediction"
   ]
  },
  {
   "cell_type": "code",
   "execution_count": null,
   "metadata": {},
   "outputs": [],
   "source": [
    "import numpy as np\n",
    "from keras.preprocessing.sequence import pad_sequences\n",
    "\n",
    "\n",
    "def final_predictions(x, y, x_tk, y_tk):\n",
    "    model = model_final(x, y, x_tk, y_tk)\n",
    "\n",
    "    # Set the tokenizer for the English data\n",
    "    x_tokenizer = x_tk\n",
    "    # Set the tokenizer for the French data\n",
    "    y_tokenizer = y_tk\n",
    "    y_id_to_word = {value: key for key, value in y_tokenizer.word_index.items()}\n",
    "    y_id_to_word[0] = '<PAD>'\n",
    "\n",
    "#     sentence = 'he saw a old yellow truck .'\n",
    "    sentence = 'he saw a old yellow truck'\n",
    "    sentence = [x_tokenizer.word_index[word] for word in sentence.split()]\n",
    "    sentence = pad_sequences([sentence], maxlen=x.shape[-1], padding='post')\n",
    "    sentences = np.array([sentence[0], x[0]])\n",
    "    predictions = model.predict(sentences, len(sentences))\n",
    "\n",
    "    print('Sample 1:')\n",
    "    print(' '.join([y_id_to_word[np.argmax(x)] for x in predictions[0]]))\n",
    "    print('Il a vu un vieux camion jaune.')\n",
    "    print('Sample 2:')\n",
    "    print(' '.join([y_id_to_word[np.argmax(x)] for x in predictions[1]]))\n",
    "    print(' '.join([y_id_to_word[np.argmax(x)] for x in y[0]]))\n",
    "\n",
    "\n",
    "final_predictions(*preprocess(english_sentences, french_sentences))"
   ]
  },
  {
   "cell_type": "markdown",
   "metadata": {},
   "source": [
    "## Submission\n",
    "When you are ready to submit your project, do the following steps:\n",
    "1. Ensure you pass all points on the [rubric](https://review.udacity.com/#!/rubrics/1004/view).\n",
    "2. Submit the following in a zip file.\n",
    "  - `helper.py`\n",
    "  - `machine_translation.ipynb`\n",
    "  - `machine_translation.html`\n",
    "    - You can export the notebook by navigating to **File -> Download as -> HTML (.html)**."
   ]
  }
 ],
 "metadata": {
  "kernelspec": {
   "display_name": "Python 3",
   "language": "python",
   "name": "python3"
  },
  "language_info": {
   "codemirror_mode": {
    "name": "ipython",
    "version": 3
   },
   "file_extension": ".py",
   "mimetype": "text/x-python",
   "name": "python",
   "nbconvert_exporter": "python",
   "pygments_lexer": "ipython3",
   "version": "3.5.3"
  }
 },
 "nbformat": 4,
 "nbformat_minor": 1
}
