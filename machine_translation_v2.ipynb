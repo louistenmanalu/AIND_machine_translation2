{
 "cells": [
  {
   "cell_type": "markdown",
   "metadata": {
    "collapsed": true
   },
   "source": [
    "# Artificial Intelligence Nanodegree\n",
    "## Machine Translation Project\n",
    "In this notebook, sections that end with **'(IMPLEMENTATION)'** in the header indicate that the following blocks of code will require additional functionality which you must provide. Please be sure to read the instructions carefully!\n",
    "\n",
    "## Introduction\n",
    "In this notebook, you will build a deep neural network that functions as part of an end-to-end machine translation pipeline. Your completed pipeline will accept English text as input and return the French translation.\n",
    "\n",
    "- **Preprocess** - You'll convert text to sequence of integers.\n",
    "- **Models** Create models which accepts a sequence of integers as input and returns a probability distribution over possible translations. After learning about the basic types of neural networks that are often used for machine translation, you will engage in your own investigations, to design your own model!\n",
    "- **Prediction** Run the model on English text.\n",
    "\n",
    "## Dataset\n",
    "We begin by investigating the dataset that will be used to train and evaluate your pipeline.  The most common datasets used for machine translation are from [WMT](http://www.statmt.org/).  However, that will take a long time to train a neural network on.  We'll be using a dataset we created for this project that contains a small vocabulary.  You'll be able to train your model in a reasonable time with this dataset.\n",
    "### Load Data\n",
    "The data is located in `data/small_vocab_en` and `data/small_vocab_fr`. The `small_vocab_en` file contains English sentences with their French translations in the `small_vocab_fr` file. Load the English and French data from these files from running the cell below."
   ]
  },
  {
   "cell_type": "code",
   "execution_count": 1,
   "metadata": {
    "collapsed": true
   },
   "outputs": [],
   "source": [
    "import helper\n",
    "\n",
    "\n",
    "# Load English data\n",
    "raw_english_sentences = helper.load_data('data/small_vocab_en')\n",
    "# Load French data\n",
    "raw_french_sentences = helper.load_data('data/small_vocab_fr')"
   ]
  },
  {
   "cell_type": "markdown",
   "metadata": {},
   "source": [
    "### Remove punctuations"
   ]
  },
  {
   "cell_type": "code",
   "execution_count": 2,
   "metadata": {
    "collapsed": true
   },
   "outputs": [],
   "source": [
    "english_sentences = []\n",
    "french_sentences = []\n",
    "\n",
    "for sentence in raw_english_sentences:\n",
    "    sentence = sentence.replace(\".\", \" \")\n",
    "    sentence = sentence.replace(\",\", \" \")\n",
    "    english_sentences.append(sentence)\n",
    "    \n",
    "for sentence in raw_french_sentences:\n",
    "    sentence = sentence.replace(\".\", \" \")\n",
    "    sentence = sentence.replace(\",\", \" \")\n",
    "    french_sentences.append(sentence)"
   ]
  },
  {
   "cell_type": "markdown",
   "metadata": {},
   "source": [
    "### Files\n",
    "Each line in `small_vocab_en` contains an English sentence with the respective translation in each line of `small_vocab_fr`.  View the first two lines from each file."
   ]
  },
  {
   "cell_type": "code",
   "execution_count": 3,
   "metadata": {},
   "outputs": [
    {
     "name": "stdout",
     "output_type": "stream",
     "text": [
      "small_vocab_en Line 1:  new jersey is sometimes quiet during autumn   and it is snowy in april  \n",
      "small_vocab_fr Line 1:  new jersey est parfois calme pendant l' automne   et il est neigeux en avril  \n",
      "small_vocab_en Line 2:  the united states is usually chilly during july   and it is usually freezing in november  \n",
      "small_vocab_fr Line 2:  les états-unis est généralement froid en juillet   et il gèle habituellement en novembre  \n"
     ]
    }
   ],
   "source": [
    "for sample_i in range(2):\n",
    "    print('small_vocab_en Line {}:  {}'.format(sample_i + 1, english_sentences[sample_i]))\n",
    "    print('small_vocab_fr Line {}:  {}'.format(sample_i + 1, french_sentences[sample_i]))"
   ]
  },
  {
   "cell_type": "markdown",
   "metadata": {},
   "source": [
    "### Vocabulary\n",
    "The complexity of the problem is determined by the complexity of the vocabulary.  A more complex vocabulary is a more complex problem.  Let's look at the complexity of the dataset we'll be working with."
   ]
  },
  {
   "cell_type": "code",
   "execution_count": 4,
   "metadata": {},
   "outputs": [
    {
     "name": "stdout",
     "output_type": "stream",
     "text": [
      "1553314 English words.\n",
      "200 unique English words.\n",
      "10 Most common words in the English dataset:\n",
      "\"is\" \"in\" \"it\" \"during\" \"the\" \"but\" \"and\" \"sometimes\" \"usually\" \"never\"\n",
      "\n",
      "1702541 French words.\n",
      "351 unique French words.\n",
      "10 Most common words in the French dataset:\n",
      "\"est\" \"en\" \"il\" \"les\" \"mais\" \"et\" \"la\" \"parfois\" \"jamais\" \"le\"\n"
     ]
    }
   ],
   "source": [
    "import collections\n",
    "english_words_counter = collections.Counter([word for sentence in english_sentences for word in sentence.split()])\n",
    "french_words_counter = collections.Counter([word for sentence in french_sentences for word in sentence.split()])\n",
    "\n",
    "print('{} English words.'.format(len([word for sentence in english_sentences for word in sentence.split()])))\n",
    "print('{} unique English words.'.format(len(english_words_counter)))\n",
    "print('10 Most common words in the English dataset:')\n",
    "print('\"' + '\" \"'.join(list(zip(*english_words_counter.most_common(10)))[0]) + '\"')\n",
    "print()\n",
    "print('{} French words.'.format(len([word for sentence in french_sentences for word in sentence.split()])))\n",
    "print('{} unique French words.'.format(len(french_words_counter)))\n",
    "print('10 Most common words in the French dataset:')\n",
    "print('\"' + '\" \"'.join(list(zip(*french_words_counter.most_common(10)))[0]) + '\"')"
   ]
  },
  {
   "cell_type": "markdown",
   "metadata": {},
   "source": [
    "For comparison, _Alice's Adventures in Wonderland_ contains 2,766 unique words of a total of 15,500 words.\n",
    "## Preprocess\n",
    "For this project, you won't use text data as input to your model. Instead, you'll convert the text into sequences of integers using the following preprocess methods:\n",
    "1. Tokenize the words into ids\n",
    "2. Add padding to make all the sequences the same length.\n",
    "3. Turn the labels into class vectors\n",
    "\n",
    "Time to start preprocessing the data...\n",
    "### Tokenize (IMPLEMENTATION)\n",
    "For a neural network to predict on text data, it first has to be turned into data it can understand. Text data like \"dog\" is a sequence of ASCII character encodings.  Since a neural network is a series of multiplication and addition operations, the input data needs to be number(s).\n",
    "\n",
    "We can turn each character into a number or each word into a number.  These are called character and word ids, respectively.  Character ids are used for character level models that generate text predictions for each character.  A word level model uses word ids that generate text predictions for each word.  Word level models tend to learn better, since they are lower in complexity, so we'll use those.\n",
    "\n",
    "Turn each sentence into a sequence of words ids using Keras's [`Tokenizer`](https://keras.io/preprocessing/text/#tokenizer) function. Use this function to tokenize `english_sentences` and `french_sentences` in the cell below.\n",
    "\n",
    "Running the cell will run `tokenize` on sample data and show output for debugging."
   ]
  },
  {
   "cell_type": "code",
   "execution_count": 5,
   "metadata": {},
   "outputs": [
    {
     "name": "stderr",
     "output_type": "stream",
     "text": [
      "Using TensorFlow backend.\n"
     ]
    },
    {
     "name": "stdout",
     "output_type": "stream",
     "text": [
      "{'over': 21, 'quick': 1, 'jumps': 4, 'lexicography': 5, 'is': 6, 'study': 7, 'by': 8, 'dog': 9, 'my': 10, 'lazy': 11, 'prize': 12, 'the': 3, 'of': 13, 'brown': 14, 'jove': 15, 'fox': 16, 'this': 17, 'sentence': 18, 'short': 19, 'won': 20, 'a': 2}\n",
      "\n",
      "Sample 1\n",
      "  The quick brown fox jumps over the lazy dog .\n",
      "  [3, 1, 14, 16, 4, 21, 3, 11, 9]\n",
      "Sample 2\n",
      "  By Jove , my quick study of lexicography won a prize .\n",
      "  [8, 15, 10, 1, 7, 13, 5, 20, 2, 12]\n",
      "Sample 3\n",
      "  This is a short sentence .\n",
      "  [17, 6, 2, 19, 18]\n"
     ]
    }
   ],
   "source": [
    "from keras.preprocessing.text import Tokenizer\n",
    "\n",
    "\n",
    "def tokenize(x):\n",
    "    \"\"\"\n",
    "    Tokenized data\n",
    "    \"\"\"\n",
    "    # TODO: Implement\n",
    "    MAX_NB_WORDS = len(french_words_counter)\n",
    "    \n",
    "    tokenizer = Tokenizer(num_words=MAX_NB_WORDS)\n",
    "    tokenizer.fit_on_texts(x)\n",
    "    sequences = tokenizer.texts_to_sequences(x)\n",
    "    return sequences, tokenizer\n",
    "\n",
    "# Tokenize Example output\n",
    "text_sentences = [\n",
    "    'The quick brown fox jumps over the lazy dog .',\n",
    "    'By Jove , my quick study of lexicography won a prize .',\n",
    "    'This is a short sentence .']\n",
    "text_tokenized, text_tokenizer = tokenize(text_sentences)\n",
    "print(text_tokenizer.word_index)\n",
    "print()\n",
    "for sample_i, (sent, token_sent) in enumerate(zip(text_sentences, text_tokenized)):\n",
    "    print('Sample {}'.format(sample_i + 1))\n",
    "    print('  {}'.format(sent))\n",
    "    print('  {}'.format(token_sent))"
   ]
  },
  {
   "cell_type": "markdown",
   "metadata": {},
   "source": [
    "### Padding (IMPLEMENTATION)\n",
    "When batching the sequence of word ids together, each sequence needs to be the same length.  Since sentences are dynamic in length, we can add padding to the end of the sequences to make them the same length.\n",
    "\n",
    "Make sure all the English sequences have the same length and all the French sequences have the same length by adding padding to the **end** of each sequence using Keras's [`pad_sequences`](https://keras.io/preprocessing/sequence/#pad_sequences) function."
   ]
  },
  {
   "cell_type": "code",
   "execution_count": 6,
   "metadata": {},
   "outputs": [
    {
     "name": "stdout",
     "output_type": "stream",
     "text": [
      "Sample 1\n",
      "   9 Length - [ 3  1 14 16  4 21  3 11  9]\n",
      "  10 Length - [ 0  3  1 14 16  4 21  3 11  9]\n",
      "Sample 2\n",
      "  10 Length - [ 8 15 10  1  7 13  5 20  2 12]\n",
      "  10 Length - [ 8 15 10  1  7 13  5 20  2 12]\n",
      "Sample 3\n",
      "   5 Length - [17  6  2 19 18]\n",
      "  10 Length - [ 0  0  0  0  0 17  6  2 19 18]\n"
     ]
    }
   ],
   "source": [
    "import numpy as np\n",
    "from keras.preprocessing.sequence import pad_sequences\n",
    "\n",
    "\n",
    "def pad(x, length=None):\n",
    "    \"\"\"\n",
    "    Pad data\n",
    "    \"\"\"\n",
    "    # TODO: Implement\n",
    "    x_pad = pad_sequences(x, maxlen=length, dtype='int32')\n",
    "    return x_pad\n",
    "\n",
    "# Pad Tokenized output\n",
    "test_pad = pad(text_tokenized)\n",
    "for sample_i, (token_sent, pad_sent) in enumerate(zip(text_tokenized, test_pad)):\n",
    "    print('Sample {}'.format(sample_i + 1))\n",
    "    print('  {:>2} Length - {}'.format(len(token_sent), np.array(token_sent)))\n",
    "    print('  {:>2} Length - {}'.format(len(pad_sent), pad_sent))"
   ]
  },
  {
   "cell_type": "markdown",
   "metadata": {},
   "source": [
    "### Categorical (IMPLEMENTATION)\n",
    "Since we're predicting on categorical data, we should turn the classes into class vectors using Keras's [`to_categorical`](https://keras.io/utils/#to_categorical) function.  The shape returned by `to_categorical` will lose the sequence length, so You'll have to add back the sequence length using NumPy's `reshape`."
   ]
  },
  {
   "cell_type": "code",
   "execution_count": 7,
   "metadata": {},
   "outputs": [
    {
     "name": "stdout",
     "output_type": "stream",
     "text": [
      "Sample 1\n",
      "[ 0  3  1 14 16  4 21  3 11  9]\n",
      "[[ 1.  0.  0.  0.  0.  0.  0.  0.  0.  0.  0.  0.  0.  0.  0.  0.  0.  0.\n",
      "   0.  0.  0.  0.]\n",
      " [ 0.  0.  0.  1.  0.  0.  0.  0.  0.  0.  0.  0.  0.  0.  0.  0.  0.  0.\n",
      "   0.  0.  0.  0.]\n",
      " [ 0.  1.  0.  0.  0.  0.  0.  0.  0.  0.  0.  0.  0.  0.  0.  0.  0.  0.\n",
      "   0.  0.  0.  0.]\n",
      " [ 0.  0.  0.  0.  0.  0.  0.  0.  0.  0.  0.  0.  0.  0.  1.  0.  0.  0.\n",
      "   0.  0.  0.  0.]\n",
      " [ 0.  0.  0.  0.  0.  0.  0.  0.  0.  0.  0.  0.  0.  0.  0.  0.  1.  0.\n",
      "   0.  0.  0.  0.]\n",
      " [ 0.  0.  0.  0.  1.  0.  0.  0.  0.  0.  0.  0.  0.  0.  0.  0.  0.  0.\n",
      "   0.  0.  0.  0.]\n",
      " [ 0.  0.  0.  0.  0.  0.  0.  0.  0.  0.  0.  0.  0.  0.  0.  0.  0.  0.\n",
      "   0.  0.  0.  1.]\n",
      " [ 0.  0.  0.  1.  0.  0.  0.  0.  0.  0.  0.  0.  0.  0.  0.  0.  0.  0.\n",
      "   0.  0.  0.  0.]\n",
      " [ 0.  0.  0.  0.  0.  0.  0.  0.  0.  0.  0.  1.  0.  0.  0.  0.  0.  0.\n",
      "   0.  0.  0.  0.]\n",
      " [ 0.  0.  0.  0.  0.  0.  0.  0.  0.  1.  0.  0.  0.  0.  0.  0.  0.  0.\n",
      "   0.  0.  0.  0.]]\n",
      "Sample 2\n",
      "[ 8 15 10  1  7 13  5 20  2 12]\n",
      "[[ 0.  0.  0.  0.  0.  0.  0.  0.  1.  0.  0.  0.  0.  0.  0.  0.  0.  0.\n",
      "   0.  0.  0.  0.]\n",
      " [ 0.  0.  0.  0.  0.  0.  0.  0.  0.  0.  0.  0.  0.  0.  0.  1.  0.  0.\n",
      "   0.  0.  0.  0.]\n",
      " [ 0.  0.  0.  0.  0.  0.  0.  0.  0.  0.  1.  0.  0.  0.  0.  0.  0.  0.\n",
      "   0.  0.  0.  0.]\n",
      " [ 0.  1.  0.  0.  0.  0.  0.  0.  0.  0.  0.  0.  0.  0.  0.  0.  0.  0.\n",
      "   0.  0.  0.  0.]\n",
      " [ 0.  0.  0.  0.  0.  0.  0.  1.  0.  0.  0.  0.  0.  0.  0.  0.  0.  0.\n",
      "   0.  0.  0.  0.]\n",
      " [ 0.  0.  0.  0.  0.  0.  0.  0.  0.  0.  0.  0.  0.  1.  0.  0.  0.  0.\n",
      "   0.  0.  0.  0.]\n",
      " [ 0.  0.  0.  0.  0.  1.  0.  0.  0.  0.  0.  0.  0.  0.  0.  0.  0.  0.\n",
      "   0.  0.  0.  0.]\n",
      " [ 0.  0.  0.  0.  0.  0.  0.  0.  0.  0.  0.  0.  0.  0.  0.  0.  0.  0.\n",
      "   0.  0.  1.  0.]\n",
      " [ 0.  0.  1.  0.  0.  0.  0.  0.  0.  0.  0.  0.  0.  0.  0.  0.  0.  0.\n",
      "   0.  0.  0.  0.]\n",
      " [ 0.  0.  0.  0.  0.  0.  0.  0.  0.  0.  0.  0.  1.  0.  0.  0.  0.  0.\n",
      "   0.  0.  0.  0.]]\n",
      "Sample 3\n",
      "[ 0  0  0  0  0 17  6  2 19 18]\n",
      "[[ 1.  0.  0.  0.  0.  0.  0.  0.  0.  0.  0.  0.  0.  0.  0.  0.  0.  0.\n",
      "   0.  0.  0.  0.]\n",
      " [ 1.  0.  0.  0.  0.  0.  0.  0.  0.  0.  0.  0.  0.  0.  0.  0.  0.  0.\n",
      "   0.  0.  0.  0.]\n",
      " [ 1.  0.  0.  0.  0.  0.  0.  0.  0.  0.  0.  0.  0.  0.  0.  0.  0.  0.\n",
      "   0.  0.  0.  0.]\n",
      " [ 1.  0.  0.  0.  0.  0.  0.  0.  0.  0.  0.  0.  0.  0.  0.  0.  0.  0.\n",
      "   0.  0.  0.  0.]\n",
      " [ 1.  0.  0.  0.  0.  0.  0.  0.  0.  0.  0.  0.  0.  0.  0.  0.  0.  0.\n",
      "   0.  0.  0.  0.]\n",
      " [ 0.  0.  0.  0.  0.  0.  0.  0.  0.  0.  0.  0.  0.  0.  0.  0.  0.  1.\n",
      "   0.  0.  0.  0.]\n",
      " [ 0.  0.  0.  0.  0.  0.  1.  0.  0.  0.  0.  0.  0.  0.  0.  0.  0.  0.\n",
      "   0.  0.  0.  0.]\n",
      " [ 0.  0.  1.  0.  0.  0.  0.  0.  0.  0.  0.  0.  0.  0.  0.  0.  0.  0.\n",
      "   0.  0.  0.  0.]\n",
      " [ 0.  0.  0.  0.  0.  0.  0.  0.  0.  0.  0.  0.  0.  0.  0.  0.  0.  0.\n",
      "   0.  1.  0.  0.]\n",
      " [ 0.  0.  0.  0.  0.  0.  0.  0.  0.  0.  0.  0.  0.  0.  0.  0.  0.  0.\n",
      "   1.  0.  0.  0.]]\n"
     ]
    }
   ],
   "source": [
    "from keras.utils import to_categorical\n",
    "\n",
    "\n",
    "def categorize(x, n_categories):\n",
    "    \"\"\"\n",
    "    Turn data into binary class matrices\n",
    "    \"\"\"\n",
    "    # TODO: Implement\n",
    "    x_shape = x.shape\n",
    "    return to_categorical(x, n_categories).reshape((*x_shape, n_categories))\n",
    "\n",
    "# Categorize Padded output\n",
    "test_categories = categorize(test_pad, len(text_tokenizer.word_index) + 1)\n",
    "for sample_i, (pad_sent, test_categorie) in enumerate(zip(test_pad, test_categories)):\n",
    "    print('Sample {}'.format(sample_i + 1))\n",
    "    print(pad_sent)\n",
    "    print(test_categorie)"
   ]
  },
  {
   "cell_type": "markdown",
   "metadata": {},
   "source": [
    "### Preprocess Pipeline\n",
    "Your focus for this project is to build neural network architecture, so we won't ask you to create a preprocess pipeline.  Instead, we've provided you with the implementation of the `preprocess` function."
   ]
  },
  {
   "cell_type": "code",
   "execution_count": 8,
   "metadata": {
    "collapsed": true
   },
   "outputs": [],
   "source": [
    "def preprocess(x, y):\n",
    "    pad_length = None\n",
    "    preprocess_x, x_tk = tokenize(x)\n",
    "    preprocess_y, y_tk = tokenize(y)\n",
    "\n",
    "    preprocess_x = pad(preprocess_x, pad_length)\n",
    "    preprocess_y = pad(preprocess_y, pad_length)\n",
    "\n",
    "    preprocess_y = categorize(preprocess_y, len(y_tk.word_index) + 1)\n",
    "    \n",
    "    # print shapes\n",
    "#     print(preprocess_x.shape)\n",
    "#     print(preprocess_y.shape)\n",
    "#     print(x_tk.word_index)\n",
    "#     print(y_tk.word_index)\n",
    "    \n",
    "    return preprocess_x, preprocess_y, x_tk, y_tk"
   ]
  },
  {
   "cell_type": "code",
   "execution_count": 9,
   "metadata": {},
   "outputs": [
    {
     "name": "stdout",
     "output_type": "stream",
     "text": [
      "(137861, 15)\n",
      "(137861, 21, 345)\n",
      "{'want': 166, 'march': 38, 'been': 191, 'france': 24, 'during': 4, 'lime': 82, 'he': 26, 'november': 45, 'a': 100, 'animal': 99, 'she': 27, 'jersey': 23, 'china': 25, 'june': 34, 'snowy': 55, 'mouse': 153, 'where': 198, 'truck': 101, 'our': 49, 'blue': 111, 'i': 96, 'they': 94, 'mangoes': 71, 'it': 3, 'freezing': 51, 'warm': 56, 'strawberries': 72, 'translating': 144, 'going': 126, \"didn't\": 181, 'grapefruit': 28, 'my': 30, 'would': 190, 'horse': 154, 'how': 168, 'grocery': 182, 'india': 19, 'her': 31, 'have': 199, 'liked': 16, 'their': 50, 'apples': 73, 'driving': 107, 'december': 47, 'cats': 169, 'autumn': 39, 'peach': 83, 'lake': 183, 'weather': 193, 'easy': 145, 'dog': 155, 'grapes': 74, 'rainy': 63, 'yellow': 112, 'grape': 84, 'lemon': 85, 'drives': 127, 'elephants': 171, 'dry': 59, 'between': 131, 'states': 20, 'sometimes': 8, 'automobile': 102, 'old': 113, 'disliked': 128, 'is': 1, 'was': 104, 'red': 114, 'mango': 86, 'and': 7, 'wants': 148, 'school': 184, 'rabbits': 172, 'go': 106, 'california': 22, 'limes': 78, 'feared': 122, 'animals': 123, 'drove': 129, 'cat': 156, 'usually': 9, 'big': 109, 'february': 48, 'hot': 68, 'next': 105, 'apple': 87, 'busy': 60, 'lions': 173, 'little': 110, 'mild': 64, 'fall': 33, 'plans': 133, 'may': 40, 'august': 61, 'in': 2, 'wet': 65, 'green': 115, 'shark': 157, 'lemons': 75, 'least': 12, \"aren't\": 192, 'like': 92, 'am': 194, 'most': 14, 'wanted': 135, 'but': 6, 'are': 120, 'january': 36, 'bears': 174, \"isn't\": 195, 'monkey': 158, 'new': 17, 'september': 42, 'mice': 170, 'has': 196, 'snakes': 175, 'dislike': 93, 'wonderful': 58, \"it's\": 149, 'tower': 185, 'orange': 88, 'rusty': 116, 'went': 136, 'eiffel': 186, 'july': 43, 'fruit': 13, 'portuguese': 140, 'did': 152, 'pear': 89, 'thinks': 138, 'relaxing': 66, 'chilly': 62, 'quiet': 67, 'bird': 159, 'last': 121, 'pleasant': 52, 'chinese': 141, 'nice': 41, 'never': 10, 'winter': 37, 'store': 187, 'dogs': 176, 'fun': 146, 'plan': 125, 'french': 142, 'beautiful': 53, 'loved': 15, 'april': 44, 'rabbit': 160, 'sharks': 177, 'we': 97, 'united': 21, 'you': 98, 'peaches': 76, 'dislikes': 69, 'bananas': 77, 'cold': 57, 'spring': 35, 'elephant': 162, 'difficult': 147, 'pears': 79, 'think': 150, 'to': 81, 'white': 117, 'visit': 108, 'car': 103, 'paris': 18, 'lion': 161, 'saw': 130, 'horses': 178, 'english': 139, 'translate': 132, 'his': 32, 'strawberry': 90, 'your': 29, 'black': 118, 'that': 95, 'the': 5, 'favorite': 11, 'do': 167, 'why': 151, 'summer': 46, 'banana': 91, 'might': 137, 'birds': 179, 'shiny': 119, 'oranges': 80, 'this': 124, 'october': 54, 'likes': 70, 'when': 165, 'bear': 163, 'field': 188, 'were': 134, 'spanish': 143, 'football': 189, 'snake': 164, 'monkeys': 180, 'does': 197}\n",
      "{'mars': 45, 'france': 33, 'prochain': 114, 'lapin': 213, 'détestez': 301, 'et': 6, 'calme': 67, 'jersey': 34, 'jamais': 9, 'oiseaux': 256, \"n'êtes\": 327, 'redouté': 156, 'etats': 328, \"l'éléphant\": 257, 'cher': 119, 'faire': 337, 'éléphant': 236, 'bien': 249, 'avril': 50, \"l'\": 11, 'ses': 170, 'belle': 104, 'visite': 254, 'traduire': 164, 'oiseau': 237, 'prévoit': 251, 'pomme': 83, 'verts': 76, 'rouille': 287, 'allés': 232, 'fait': 103, 'veulent': 238, 'chien': 214, 'temps': 286, 'glaciales': 190, 'légère': 269, 'vous': 106, 'difficile': 196, 'neige': 102, 'noir': 176, 'nous': 107, 'enneigé': 321, 'citron': 84, 'habituellement': 69, 'merveilleux': 57, 'chats': 259, 'chaux': 85, \"l'animal\": 279, 'je': 116, 'cépage': 270, 'citrons': 28, 'peu': 283, 'il': 3, 'unis': 31, 'qui': 330, 'vos': 209, 'terrain': 272, 'détestons': 132, 'pourquoi': 205, 'doux': 58, 'comme': 199, 'california': 101, 'californie': 62, 'pas': 91, 'gros': 200, 'envisagent': 316, 'vert': 182, 'en': 2, 'occupée': 138, 'beau': 68, 'veut': 202, 'leur': 64, 'espagnol': 185, 'pêches': 70, 'requin': 215, 'grosse': 224, 'un': 144, 'pêche': 86, 'que': 146, 'vieille': 148, 'janvier': 43, 'cheval': 216, 'petites': 290, 'limes': 317, 'détendre': 241, 'va': 180, 'êtes': 292, 'requins': 261, 'grand': 248, 'détend': 331, 'brillant': 154, 'apprécié': 332, 'fruit': 16, \"c'est\": 302, 'états': 32, 'singe': 217, 'pourraient': 239, 'poire': 87, 't': 300, 'blanc': 171, 'préférés': 175, 'moteur': 338, 'pousse': 284, \"n'est\": 280, 'juillet': 49, 'banane': 88, 'vais': 293, 'voulait': 203, 'vers': 250, 'été': 46, \"l'oiseau\": 262, 'volant': 230, \"n'aimez\": 128, 'as': 339, 'camion': 110, 'traduis': 333, 'est': 1, 'dernière': 294, 'chat': 218, 'cette': 121, 'es': 340, 'bleue': 162, \"l'orange\": 89, 'bénigne': 319, 'pense': 160, 'grands': 318, 'conduit': 113, 'conduite': 324, 'redoutés': 222, 'grandes': 304, 'froid': 19, 'cours': 111, 'son': 20, 'redoutée': 334, 'tour': 273, \"l'épicerie\": 274, 'visiter': 136, 'au': 15, 'mangue': 80, 'tout': 326, 'porcelaine': 303, 'raisin': 82, 'gelés': 325, 'lion': 219, \"l'école\": 275, 'comment': 255, 'vieux': 183, 'chinois': 186, 'tranquille': 117, 'trop': 226, 'bleu': 166, 'magnifique': 243, 'aimeraient': 310, 'notre': 61, 'lui': 253, 'sec': 63, 'pourrait': 204, 'souvent': 341, 'mois': 25, 'automne': 24, 'allons': 281, 'douce': 306, \"qu'elle\": 291, 'allez': 282, 'football': 276, 'pamplemousse': 38, \"n'a\": 311, 'lac': 277, 'souris': 201, 'voulez': 312, 'singes': 263, 'septembre': 48, 'ressort': 335, 'intention': 210, 'août': 56, 'dernier': 142, 'a': 118, 'animal': 109, \"l'automobile\": 244, 'quand': 235, 'raisins': 77, 'préférée': 140, 'allée': 233, 'amusant': 197, 'i': 234, 'chevaux': 264, \"n'aiment\": 127, 'aimés': 206, 'petite': 151, 'leurs': 129, 'français': 187, \"n'aime\": 100, 'chine': 36, 'enneigée': 92, 'noire': 153, 'clémentes': 211, 'détestait': 247, 'blanche': 155, 'allions': 342, 'préférées': 305, 'petit': 184, 'votre': 40, 'voudrait': 295, 'tu': 336, 'mon': 39, 'pluvieux': 66, 'vit': 329, 'rouillé': 169, 'bananes': 72, 'plaît': 309, 'aimons': 126, 'pluie': 225, 'mai': 47, 'mangues': 78, 'juin': 41, 'parfois': 8, 'monde': 227, 'mouillé': 195, 'avons': 298, 'février': 53, 'grande': 168, 'chaud': 21, 'prévoient': 252, \"l'automne\": 98, 'chaude': 125, 'aux': 173, 'animaux': 141, 'favoris': 343, 'pensez': 271, 'aime': 55, 'une': 120, 'petits': 315, 'automobile': 193, 'aiment': 124, 'jaune': 133, 'voiture': 97, 'entre': 161, 'humide': 60, \"n'aimons\": 245, 'déteste': 94, 'printemps': 42, 'occupé': 65, 'les': 4, 'frisquet': 139, 'rouillée': 165, 'novembre': 51, 'aimez': 130, 'sèche': 137, 'portugais': 188, 'lions': 265, 'ours': 220, 'manguiers': 299, 'vu': 149, 'proches': 296, 'traduction': 194, 'chiens': 260, 'rouge': 134, 'agréable': 18, 'sont': 131, 'fraise': 90, 'des': 108, 'où': 313, 'voulaient': 240, 'de': 22, 'trouvé': 344, 'étaient': 179, \"n'aimait\": 158, 'aimait': 143, 'aimé': 14, 'cet': 192, 'eiffel': 278, 'prévois': 207, 'new': 35, 'envisage': 178, 'nos': 152, 'mouillée': 322, 'le': 10, 'prévoyons': 208, 'hiver': 44, 'moins': 13, 'avez': 231, 'pluies': 177, 'nouveau': 163, 'facile': 198, 'anglais': 189, 'octobre': 54, 'congélation': 307, 'at': 288, 'plus': 23, 'généralement': 12, 'gèle': 95, 'nouvelle': 147, 'verte': 150, 'moindres': 323, 'sur': 289, 'maillot': 228, 'frais': 297, 'à': 26, 'inde': 30, 'pamplemousses': 159, 'relaxant': 59, 'mes': 191, \"d'\": 79, \"l'ours\": 266, 'rendre': 181, 'mais': 5, 'lapins': 258, 'se': 167, 'préféré': 17, 'fruits': 96, 'la': 7, 'pommes': 71, 'allé': 223, 'décembre': 52, 'gelé': 246, 'aimée': 242, 'éléphants': 267, \"qu'il\": 172, 'était': 122, 'du': 285, 'ils': 99, 'paris': 29, 'fraises': 73, \"j'aime\": 135, 'serpent': 221, 'ont': 212, 'aller': 123, 'dans': 314, 'pendant': 37, 'neigeux': 112, 'conduisait': 145, 'elle': 27, 'ce': 115, 'favori': 93, 'pleut': 157, 'oranges': 74, 'brillante': 174, 'gel': 81, 'vont': 229, 'durant': 308, 'ne': 105, 'grosses': 320, 'serpents': 268, 'poires': 75}\n"
     ]
    },
    {
     "data": {
      "text/plain": [
       "(array([[ 0,  0, 17, ..., 55,  2, 44],\n",
       "        [ 5, 21, 20, ..., 51,  2, 45],\n",
       "        [ 0,  0, 22, ..., 68,  2, 34],\n",
       "        ..., \n",
       "        [ 0,  0, 24, ..., 64,  2, 54],\n",
       "        [ 0,  0,  0, ...,  1, 29, 11],\n",
       "        [ 0,  0,  0, ...,  0,  0,  0]], dtype=int32),\n",
       " array([[[ 1.,  0.,  0., ...,  0.,  0.,  0.],\n",
       "         [ 1.,  0.,  0., ...,  0.,  0.,  0.],\n",
       "         [ 1.,  0.,  0., ...,  0.,  0.,  0.],\n",
       "         ..., \n",
       "         [ 0.,  0.,  0., ...,  0.,  0.,  0.],\n",
       "         [ 0.,  0.,  1., ...,  0.,  0.,  0.],\n",
       "         [ 0.,  0.,  0., ...,  0.,  0.,  0.]],\n",
       " \n",
       "        [[ 1.,  0.,  0., ...,  0.,  0.,  0.],\n",
       "         [ 1.,  0.,  0., ...,  0.,  0.,  0.],\n",
       "         [ 1.,  0.,  0., ...,  0.,  0.,  0.],\n",
       "         ..., \n",
       "         [ 0.,  0.,  0., ...,  0.,  0.,  0.],\n",
       "         [ 0.,  0.,  1., ...,  0.,  0.,  0.],\n",
       "         [ 0.,  0.,  0., ...,  0.,  0.,  0.]],\n",
       " \n",
       "        [[ 1.,  0.,  0., ...,  0.,  0.,  0.],\n",
       "         [ 1.,  0.,  0., ...,  0.,  0.,  0.],\n",
       "         [ 1.,  0.,  0., ...,  0.,  0.,  0.],\n",
       "         ..., \n",
       "         [ 0.,  0.,  0., ...,  0.,  0.,  0.],\n",
       "         [ 0.,  0.,  1., ...,  0.,  0.,  0.],\n",
       "         [ 0.,  0.,  0., ...,  0.,  0.,  0.]],\n",
       " \n",
       "        ..., \n",
       "        [[ 1.,  0.,  0., ...,  0.,  0.,  0.],\n",
       "         [ 1.,  0.,  0., ...,  0.,  0.,  0.],\n",
       "         [ 1.,  0.,  0., ...,  0.,  0.,  0.],\n",
       "         ..., \n",
       "         [ 0.,  0.,  0., ...,  0.,  0.,  0.],\n",
       "         [ 0.,  0.,  1., ...,  0.,  0.,  0.],\n",
       "         [ 0.,  0.,  0., ...,  0.,  0.,  0.]],\n",
       " \n",
       "        [[ 1.,  0.,  0., ...,  0.,  0.,  0.],\n",
       "         [ 1.,  0.,  0., ...,  0.,  0.,  0.],\n",
       "         [ 1.,  0.,  0., ...,  0.,  0.,  0.],\n",
       "         ..., \n",
       "         [ 0.,  1.,  0., ...,  0.,  0.,  0.],\n",
       "         [ 0.,  0.,  0., ...,  0.,  0.,  0.],\n",
       "         [ 0.,  0.,  0., ...,  0.,  0.,  0.]],\n",
       " \n",
       "        [[ 1.,  0.,  0., ...,  0.,  0.,  0.],\n",
       "         [ 1.,  0.,  0., ...,  0.,  0.,  0.],\n",
       "         [ 1.,  0.,  0., ...,  0.,  0.,  0.],\n",
       "         ..., \n",
       "         [ 1.,  0.,  0., ...,  0.,  0.,  0.],\n",
       "         [ 1.,  0.,  0., ...,  0.,  0.,  0.],\n",
       "         [ 1.,  0.,  0., ...,  0.,  0.,  0.]]]),\n",
       " <keras.preprocessing.text.Tokenizer at 0x7fd4cc6e0c88>,\n",
       " <keras.preprocessing.text.Tokenizer at 0x7fd4cc6e0ef0>)"
      ]
     },
     "execution_count": 9,
     "metadata": {},
     "output_type": "execute_result"
    }
   ],
   "source": [
    "preprocess(english_sentences, french_sentences)"
   ]
  },
  {
   "cell_type": "markdown",
   "metadata": {},
   "source": [
    "## Models\n",
    "In this section, you will experiment with various neural network architectures.\n",
    "You will begin by training four relatively simple architectures.\n",
    "- Model 1 is a simple RNN\n",
    "- Model 2 is a RNN with Embedding\n",
    "- Model 3 is a Encoder-Decoder\n",
    "- Model 4 is a Bidirectional RNN\n",
    "\n",
    "After experimenting with the four simple architectures, you will construct a deeper architecture that is designed to outperform all four models.\n",
    "\n",
    "Each model will want the input in a different form.  While you did preprocess the English sentences, you'll have to add additional padding and/or reshape it to 3 dimensions for the right situation.\n",
    "### Model 1: RNN (IMPLEMENTATION)\n",
    "![RNN](images/rnn.png)\n",
    "A basic RNN model is a good baseline for sequence data.  In this model, you'll build a RNN that translates English to French."
   ]
  },
  {
   "cell_type": "code",
   "execution_count": 9,
   "metadata": {},
   "outputs": [
    {
     "name": "stdout",
     "output_type": "stream",
     "text": [
      "_________________________________________________________________\n",
      "Layer (type)                 Output Shape              Param #   \n",
      "=================================================================\n",
      "gru_1 (GRU)                  (None, 512)               811008    \n",
      "_________________________________________________________________\n",
      "dense_1 (Dense)              (None, 345)               176985    \n",
      "_________________________________________________________________\n",
      "activation_1 (Activation)    (None, 345)               0         \n",
      "=================================================================\n",
      "Total params: 987,993.0\n",
      "Trainable params: 987,993.0\n",
      "Non-trainable params: 0.0\n",
      "_________________________________________________________________\n"
     ]
    },
    {
     "data": {
      "text/plain": [
       "<keras.models.Sequential at 0x7f8e5ce31860>"
      ]
     },
     "execution_count": 9,
     "metadata": {},
     "output_type": "execute_result"
    }
   ],
   "source": [
    "import numpy as np\n",
    "\n",
    "from keras.models import Sequential\n",
    "from keras.layers import GRU, Input, Dense, TimeDistributed\n",
    "from keras.models import Model\n",
    "from keras.layers import Activation\n",
    "from keras.optimizers import Adam\n",
    "\n",
    "\n",
    "def model_one(x, y, x_tk, y_tk):\n",
    "    model = Sequential()\n",
    "    model.add(GRU(512, return_sequences=False, input_shape=x.shape))\n",
    "    model.add(Dense(345))\n",
    "    model.add(Activation('softmax'))\n",
    "    model.compile(loss='categorical_crossentropy', optimizer='adam', metrics=['accuracy'])\n",
    "    model.summary()\n",
    "    \n",
    "    return model\n",
    "    \n",
    "model_one(*preprocess(english_sentences, french_sentences))"
   ]
  },
  {
   "cell_type": "markdown",
   "metadata": {},
   "source": [
    "### Model 2: Embedding (IMPLEMENTATION)\n",
    "![RNN](images/embedding.png)\n",
    "You've turned the words into ids, but there's a better representation of a word.  This is called word embeddings.  An embedding is a vector representation of the word that is close to similar words in n-dimensional space, where the n represents the size of the embedding vectors.\n",
    "\n",
    "In this model, you'll create a RNN model using embedding."
   ]
  },
  {
   "cell_type": "code",
   "execution_count": 10,
   "metadata": {},
   "outputs": [
    {
     "name": "stdout",
     "output_type": "stream",
     "text": [
      "_________________________________________________________________\n",
      "Layer (type)                 Output Shape              Param #   \n",
      "=================================================================\n",
      "embedding_1 (Embedding)      (None, 15, 345)           69000     \n",
      "_________________________________________________________________\n",
      "gru_2 (GRU)                  (None, 512)               1317888   \n",
      "_________________________________________________________________\n",
      "dense_2 (Dense)              (None, 345)               176985    \n",
      "_________________________________________________________________\n",
      "activation_2 (Activation)    (None, 345)               0         \n",
      "=================================================================\n",
      "Total params: 1,563,873.0\n",
      "Trainable params: 1,563,873.0\n",
      "Non-trainable params: 0.0\n",
      "_________________________________________________________________\n"
     ]
    },
    {
     "data": {
      "text/plain": [
       "<keras.models.Sequential at 0x7f8e5c110ef0>"
      ]
     },
     "execution_count": 10,
     "metadata": {},
     "output_type": "execute_result"
    }
   ],
   "source": [
    "from keras.layers.embeddings import Embedding\n",
    "\n",
    "\n",
    "def model_two(x, y, x_tk, y_tk):\n",
    "    # TODO: Implement\n",
    "    model = Sequential()\n",
    "    model.add(Embedding(input_dim = 200, output_dim=345, input_length=15, mask_zero=True))\n",
    "    model.add(GRU(512))\n",
    "    model.add(Dense(y.shape[2]))\n",
    "    model.add(Activation('softmax'))\n",
    "    model.compile(loss='categorical_crossentropy', optimizer='adam', metrics=['accuracy'])\n",
    "    model.summary()\n",
    "    \n",
    "    return model\n",
    "\n",
    "\n",
    "model_two(*preprocess(english_sentences, french_sentences))"
   ]
  },
  {
   "cell_type": "markdown",
   "metadata": {},
   "source": [
    "### Model 3: Encoder-Decoder (IMPLEMENTATION)\n",
    "![RNN](images/encoder_decoder.png)\n",
    "Time to look at encoder-decoder models.  This model is made up of an encoder and decoder. The encoder creates a matrix representation of the sentence.  The decoder takes this matrix as input and predicts the translation as output.\n",
    "\n",
    "Create an encoder-decoder model in the cell below."
   ]
  },
  {
   "cell_type": "code",
   "execution_count": 11,
   "metadata": {},
   "outputs": [
    {
     "name": "stdout",
     "output_type": "stream",
     "text": [
      "_________________________________________________________________\n",
      "Layer (type)                 Output Shape              Param #   \n",
      "=================================================================\n",
      "embedding_2 (Embedding)      (None, 15, 351)           70200     \n",
      "_________________________________________________________________\n",
      "gru_3 (GRU)                  (None, 512)               1327104   \n",
      "_________________________________________________________________\n",
      "repeat_vector_1 (RepeatVecto (None, 21, 512)           0         \n",
      "_________________________________________________________________\n",
      "gru_4 (GRU)                  (None, 21, 512)           1574400   \n",
      "_________________________________________________________________\n",
      "time_distributed_1 (TimeDist (None, 21, 345)           176985    \n",
      "_________________________________________________________________\n",
      "activation_3 (Activation)    (None, 21, 345)           0         \n",
      "=================================================================\n",
      "Total params: 3,148,689.0\n",
      "Trainable params: 3,148,689.0\n",
      "Non-trainable params: 0.0\n",
      "_________________________________________________________________\n"
     ]
    },
    {
     "data": {
      "text/plain": [
       "<keras.models.Sequential at 0x7f8e5be9dfd0>"
      ]
     },
     "execution_count": 11,
     "metadata": {},
     "output_type": "execute_result"
    }
   ],
   "source": [
    "from keras.layers import RepeatVector\n",
    "\n",
    "\n",
    "def model_three(x, y, x_tk, y_tk):\n",
    "    # TODO: Implement\n",
    "    \n",
    "    # encoder\n",
    "    model = Sequential()\n",
    "    model.add(Embedding(input_dim = 200, output_dim=351, input_length=15, mask_zero=True))\n",
    "    model.add(GRU(512, return_sequences=False))\n",
    "    \n",
    "    # decoder\n",
    "    model.add(RepeatVector(21))\n",
    "    model.add(GRU(512, return_sequences=True))\n",
    "    model.add(TimeDistributed(Dense(345)))\n",
    "    model.add(Activation('softmax'))\n",
    "    \n",
    "    # compile model\n",
    "    model.compile(loss='categorical_crossentropy', optimizer='adam', metrics=['accuracy'])\n",
    "    model.summary()\n",
    "    \n",
    "    return model\n",
    "\n",
    "\n",
    "model_three(*preprocess(english_sentences, french_sentences))"
   ]
  },
  {
   "cell_type": "markdown",
   "metadata": {},
   "source": [
    "### Model 4: Bidirectional RNNs (IMPLEMENTATION)\n",
    "![RNN](images/bidirectional.png)\n",
    "One restriction of a RNN is that it can't see the future input, only the past.  This is where bidirectional recurrent neural networks come in.  They are able to see the future data."
   ]
  },
  {
   "cell_type": "code",
   "execution_count": 12,
   "metadata": {},
   "outputs": [
    {
     "name": "stdout",
     "output_type": "stream",
     "text": [
      "_________________________________________________________________\n",
      "Layer (type)                 Output Shape              Param #   \n",
      "=================================================================\n",
      "bidirectional_1 (Bidirection (None, 1024)              1622016   \n",
      "_________________________________________________________________\n",
      "activation_4 (Activation)    (None, 1024)              0         \n",
      "=================================================================\n",
      "Total params: 1,622,016.0\n",
      "Trainable params: 1,622,016.0\n",
      "Non-trainable params: 0.0\n",
      "_________________________________________________________________\n"
     ]
    },
    {
     "data": {
      "text/plain": [
       "<keras.models.Sequential at 0x7f8e5c110be0>"
      ]
     },
     "execution_count": 12,
     "metadata": {},
     "output_type": "execute_result"
    }
   ],
   "source": [
    "from keras.layers import Bidirectional\n",
    "\n",
    "\n",
    "def model_four(x, y, x_tk, y_tk):\n",
    "    # TODO: Implement\n",
    "    model = Sequential()\n",
    "    model.add(Bidirectional(GRU(512), input_shape=(137861, 15)))\n",
    "    model.add(Activation('softmax'))\n",
    "    model.compile(loss='categorical_crossentropy', optimizer='adam', metrics=['accuracy'])\n",
    "    model.summary()\n",
    "    \n",
    "    return model\n",
    "\n",
    "model_four(*preprocess(english_sentences, french_sentences))"
   ]
  },
  {
   "cell_type": "markdown",
   "metadata": {},
   "source": [
    "### Model 5: Custom (IMPLEMENTATION)\n",
    "Use everything you learned from the previous 4 models to create a model that incorporates embedding, encoder-decoder, and bidirectional rnn into one model."
   ]
  },
  {
   "cell_type": "code",
   "execution_count": 14,
   "metadata": {},
   "outputs": [
    {
     "name": "stdout",
     "output_type": "stream",
     "text": [
      "_________________________________________________________________\n",
      "Layer (type)                 Output Shape              Param #   \n",
      "=================================================================\n",
      "embedding_4 (Embedding)      (None, 15, 345)           69000     \n",
      "_________________________________________________________________\n",
      "bidirectional_3 (Bidirection (None, 1024)              2635776   \n",
      "_________________________________________________________________\n",
      "repeat_vector_3 (RepeatVecto (None, 21, 1024)          0         \n",
      "_________________________________________________________________\n",
      "gru_9 (GRU)                  (None, 21, 512)           2360832   \n",
      "_________________________________________________________________\n",
      "time_distributed_3 (TimeDist (None, 21, 345)           176985    \n",
      "_________________________________________________________________\n",
      "activation_6 (Activation)    (None, 21, 345)           0         \n",
      "=================================================================\n",
      "Total params: 5,242,593.0\n",
      "Trainable params: 5,242,593.0\n",
      "Non-trainable params: 0.0\n",
      "_________________________________________________________________\n",
      "Epoch 1/10\n",
      "137861/137861 [==============================] - 509s - loss: 1.2011   \n",
      "Epoch 2/10\n",
      "137861/137861 [==============================] - 474s - loss: 0.3629   \n",
      "Epoch 3/10\n",
      "137861/137861 [==============================] - 459s - loss: 0.2028   \n",
      "Epoch 4/10\n",
      "137861/137861 [==============================] - 510s - loss: 0.1099   \n",
      "Epoch 5/10\n",
      "137861/137861 [==============================] - 505s - loss: 0.0959   \n",
      "Epoch 6/10\n",
      "137861/137861 [==============================] - 504s - loss: 0.0897   \n",
      "Epoch 7/10\n",
      "137861/137861 [==============================] - 456s - loss: 0.0712   \n",
      "Epoch 8/10\n",
      "137861/137861 [==============================] - 456s - loss: 0.0585   \n",
      "Epoch 9/10\n",
      "137861/137861 [==============================] - 502s - loss: 0.0563   \n",
      "Epoch 10/10\n",
      "137861/137861 [==============================] - 424s - loss: 0.0645   \n"
     ]
    },
    {
     "data": {
      "text/plain": [
       "<keras.models.Sequential at 0x7f8e8a610b38>"
      ]
     },
     "execution_count": 14,
     "metadata": {},
     "output_type": "execute_result"
    }
   ],
   "source": [
    "def model_final(x, y, x_tk, y_tk):\n",
    "    # TODO: Implement\n",
    "    \n",
    "    # encoder\n",
    "    model = Sequential()\n",
    "    model.add(Embedding(input_dim = 200, output_dim=345, input_length=15, mask_zero=True))\n",
    "    model.add(Bidirectional(GRU(512, return_sequences=False)))\n",
    "    \n",
    "    # decoder\n",
    "    model.add(RepeatVector(21))\n",
    "    model.add(GRU(512, return_sequences=True))\n",
    "    model.add(TimeDistributed(Dense(345)))\n",
    "    model.add(Activation('softmax'))\n",
    "    \n",
    "    model.compile(loss='categorical_crossentropy', optimizer='adam')\n",
    "    model.summary()\n",
    "    model.fit(x, y, batch_size=128, epochs=10, verbose=1, callbacks=None, validation_split=0.0, validation_data=None, shuffle=True, class_weight=None, sample_weight=None, initial_epoch=0)\n",
    "    \n",
    "    return model\n",
    "    \n",
    "model_final(*preprocess(english_sentences, french_sentences))"
   ]
  },
  {
   "cell_type": "markdown",
   "metadata": {},
   "source": [
    "## Prediction"
   ]
  },
  {
   "cell_type": "code",
   "execution_count": 15,
   "metadata": {},
   "outputs": [
    {
     "name": "stdout",
     "output_type": "stream",
     "text": [
      "_________________________________________________________________\n",
      "Layer (type)                 Output Shape              Param #   \n",
      "=================================================================\n",
      "embedding_5 (Embedding)      (None, 15, 345)           69000     \n",
      "_________________________________________________________________\n",
      "bidirectional_4 (Bidirection (None, 1024)              2635776   \n",
      "_________________________________________________________________\n",
      "repeat_vector_4 (RepeatVecto (None, 21, 1024)          0         \n",
      "_________________________________________________________________\n",
      "gru_11 (GRU)                 (None, 21, 512)           2360832   \n",
      "_________________________________________________________________\n",
      "time_distributed_4 (TimeDist (None, 21, 345)           176985    \n",
      "_________________________________________________________________\n",
      "activation_7 (Activation)    (None, 21, 345)           0         \n",
      "=================================================================\n",
      "Total params: 5,242,593.0\n",
      "Trainable params: 5,242,593.0\n",
      "Non-trainable params: 0.0\n",
      "_________________________________________________________________\n",
      "Epoch 1/10\n",
      "137861/137861 [==============================] - 433s - loss: 1.1168   \n",
      "Epoch 2/10\n",
      "137861/137861 [==============================] - 462s - loss: 0.3464   \n",
      "Epoch 3/10\n",
      "137861/137861 [==============================] - 495s - loss: 0.1664   \n",
      "Epoch 4/10\n",
      "137861/137861 [==============================] - 434s - loss: 0.1103   \n",
      "Epoch 5/10\n",
      "137861/137861 [==============================] - 433s - loss: 0.0880   \n",
      "Epoch 6/10\n",
      "137861/137861 [==============================] - 432s - loss: 0.0943   \n",
      "Epoch 7/10\n",
      "137861/137861 [==============================] - 438s - loss: 0.0689   \n",
      "Epoch 8/10\n",
      "137861/137861 [==============================] - 505s - loss: 0.0500   \n",
      "Epoch 9/10\n",
      "137861/137861 [==============================] - 436s - loss: 0.0596   \n",
      "Epoch 10/10\n",
      "137861/137861 [==============================] - 462s - loss: 0.0539   \n",
      "Sample 1:\n",
      "<PAD> <PAD> <PAD> <PAD> <PAD> <PAD> <PAD> <PAD> <PAD> <PAD> <PAD> <PAD> <PAD> <PAD> il a vu un vieux camion jaune\n",
      "Il a vu un vieux camion jaune.\n",
      "Sample 2:\n",
      "<PAD> <PAD> <PAD> <PAD> <PAD> <PAD> <PAD> new new est parfois calme calme l' automne et il est neigeux en avril\n",
      "<PAD> <PAD> <PAD> <PAD> <PAD> <PAD> <PAD> new jersey est parfois calme pendant l' automne et il est neigeux en avril\n"
     ]
    }
   ],
   "source": [
    "import numpy as np\n",
    "from keras.preprocessing.sequence import pad_sequences\n",
    "\n",
    "\n",
    "def final_predictions(x, y, x_tk, y_tk):\n",
    "    model = model_final(x, y, x_tk, y_tk)\n",
    "\n",
    "    # Set the tokenizer for the English data\n",
    "    x_tokenizer = x_tk\n",
    "    # Set the tokenizer for the French data\n",
    "    y_tokenizer = y_tk\n",
    "    y_id_to_word = {value: key for key, value in y_tokenizer.word_index.items()}\n",
    "    y_id_to_word[0] = '<PAD>'\n",
    "\n",
    "#     sentence = 'he saw a old yellow truck .'\n",
    "    sentence = 'he saw a old yellow truck'\n",
    "    sentence = [x_tokenizer.word_index[word] for word in sentence.split()]\n",
    "    sentence = pad_sequences([sentence], maxlen=x.shape[-1], padding='post')\n",
    "    sentences = np.array([sentence[0], x[0]])\n",
    "    predictions = model.predict(sentences, len(sentences))\n",
    "\n",
    "    print('Sample 1:')\n",
    "    print(' '.join([y_id_to_word[np.argmax(x)] for x in predictions[0]]))\n",
    "    print('Il a vu un vieux camion jaune.')\n",
    "    print('Sample 2:')\n",
    "    print(' '.join([y_id_to_word[np.argmax(x)] for x in predictions[1]]))\n",
    "    print(' '.join([y_id_to_word[np.argmax(x)] for x in y[0]]))\n",
    "\n",
    "\n",
    "final_predictions(*preprocess(english_sentences, french_sentences))"
   ]
  },
  {
   "cell_type": "markdown",
   "metadata": {},
   "source": [
    "## Submission\n",
    "When you are ready to submit your project, do the following steps:\n",
    "1. Ensure you pass all points on the [rubric](https://review.udacity.com/#!/rubrics/1004/view).\n",
    "2. Submit the following in a zip file.\n",
    "  - `helper.py`\n",
    "  - `machine_translation.ipynb`\n",
    "  - `machine_translation.html`\n",
    "    - You can export the notebook by navigating to **File -> Download as -> HTML (.html)**."
   ]
  }
 ],
 "metadata": {
  "kernelspec": {
   "display_name": "Python 3",
   "language": "python",
   "name": "python3"
  },
  "language_info": {
   "codemirror_mode": {
    "name": "ipython",
    "version": 3
   },
   "file_extension": ".py",
   "mimetype": "text/x-python",
   "name": "python",
   "nbconvert_exporter": "python",
   "pygments_lexer": "ipython3",
   "version": "3.5.3"
  }
 },
 "nbformat": 4,
 "nbformat_minor": 1
}
