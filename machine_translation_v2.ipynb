{
 "cells": [
  {
   "cell_type": "markdown",
   "metadata": {
    "collapsed": true
   },
   "source": [
    "# Artificial Intelligence Nanodegree\n",
    "## Machine Translation Project\n",
    "In this notebook, sections that end with **'(IMPLEMENTATION)'** in the header indicate that the following blocks of code will require additional functionality which you must provide. Please be sure to read the instructions carefully!\n",
    "\n",
    "## Introduction\n",
    "In this notebook, you will build a deep neural network that functions as part of an end-to-end machine translation pipeline. Your completed pipeline will accept English text as input and return the French translation.\n",
    "\n",
    "- **Preprocess** - You'll convert text to sequence of integers.\n",
    "- **Models** Create models which accepts a sequence of integers as input and returns a probability distribution over possible translations. After learning about the basic types of neural networks that are often used for machine translation, you will engage in your own investigations, to design your own model!\n",
    "- **Prediction** Run the model on English text.\n",
    "\n",
    "## Dataset\n",
    "We begin by investigating the dataset that will be used to train and evaluate your pipeline.  The most common datasets used for machine translation are from [WMT](http://www.statmt.org/).  However, that will take a long time to train a neural network on.  We'll be using a dataset we created for this project that contains a small vocabulary.  You'll be able to train your model in a reasonable time with this dataset.\n",
    "### Load Data\n",
    "The data is located in `data/small_vocab_en` and `data/small_vocab_fr`. The `small_vocab_en` file contains English sentences with their French translations in the `small_vocab_fr` file. Load the English and French data from these files from running the cell below."
   ]
  },
  {
   "cell_type": "code",
   "execution_count": 1,
   "metadata": {
    "collapsed": true
   },
   "outputs": [],
   "source": [
    "import helper\n",
    "\n",
    "\n",
    "# Load English data\n",
    "english_sentences = helper.load_data('data/small_vocab_en')\n",
    "# Load French data\n",
    "french_sentences = helper.load_data('data/small_vocab_fr')"
   ]
  },
  {
   "cell_type": "markdown",
   "metadata": {},
   "source": [
    "### Files\n",
    "Each line in `small_vocab_en` contains an English sentence with the respective translation in each line of `small_vocab_fr`.  View the first two lines from each file."
   ]
  },
  {
   "cell_type": "code",
   "execution_count": 2,
   "metadata": {},
   "outputs": [
    {
     "name": "stdout",
     "output_type": "stream",
     "text": [
      "small_vocab_en Line 1:  new jersey is sometimes quiet during autumn , and it is snowy in april .\n",
      "small_vocab_fr Line 1:  new jersey est parfois calme pendant l' automne , et il est neigeux en avril .\n",
      "small_vocab_en Line 2:  the united states is usually chilly during july , and it is usually freezing in november .\n",
      "small_vocab_fr Line 2:  les états-unis est généralement froid en juillet , et il gèle habituellement en novembre .\n"
     ]
    }
   ],
   "source": [
    "for sample_i in range(2):\n",
    "    print('small_vocab_en Line {}:  {}'.format(sample_i + 1, english_sentences[sample_i]))\n",
    "    print('small_vocab_fr Line {}:  {}'.format(sample_i + 1, french_sentences[sample_i]))"
   ]
  },
  {
   "cell_type": "markdown",
   "metadata": {},
   "source": [
    "### Vocabulary\n",
    "The complexity of the problem is determined by the complexity of the vocabulary.  A more complex vocabulary is a more complex problem.  Let's look at the complexity of the dataset we'll be working with."
   ]
  },
  {
   "cell_type": "code",
   "execution_count": 3,
   "metadata": {},
   "outputs": [
    {
     "name": "stdout",
     "output_type": "stream",
     "text": [
      "1823250 English words.\n",
      "227 unique English words.\n",
      "10 Most common words in the English dataset:\n",
      "\"is\" \",\" \".\" \"in\" \"it\" \"during\" \"the\" \"but\" \"and\" \"sometimes\"\n",
      "\n",
      "1961295 French words.\n",
      "355 unique French words.\n",
      "10 Most common words in the French dataset:\n",
      "\"est\" \".\" \",\" \"en\" \"il\" \"les\" \"mais\" \"et\" \"la\" \"parfois\"\n"
     ]
    }
   ],
   "source": [
    "import collections\n",
    "english_words_counter = collections.Counter([word for sentence in english_sentences for word in sentence.split()])\n",
    "french_words_counter = collections.Counter([word for sentence in french_sentences for word in sentence.split()])\n",
    "\n",
    "print('{} English words.'.format(len([word for sentence in english_sentences for word in sentence.split()])))\n",
    "print('{} unique English words.'.format(len(english_words_counter)))\n",
    "print('10 Most common words in the English dataset:')\n",
    "print('\"' + '\" \"'.join(list(zip(*english_words_counter.most_common(10)))[0]) + '\"')\n",
    "print()\n",
    "print('{} French words.'.format(len([word for sentence in french_sentences for word in sentence.split()])))\n",
    "print('{} unique French words.'.format(len(french_words_counter)))\n",
    "print('10 Most common words in the French dataset:')\n",
    "print('\"' + '\" \"'.join(list(zip(*french_words_counter.most_common(10)))[0]) + '\"')"
   ]
  },
  {
   "cell_type": "markdown",
   "metadata": {},
   "source": [
    "For comparison, _Alice's Adventures in Wonderland_ contains 2,766 unique words of a total of 15,500 words.\n",
    "## Preprocess\n",
    "For this project, you won't use text data as input to your model. Instead, you'll convert the text into sequences of integers using the following preprocess methods:\n",
    "1. Tokenize the words into ids\n",
    "2. Add padding to make all the sequences the same length.\n",
    "3. Turn the labels into class vectors\n",
    "\n",
    "Time to start preprocessing the data...\n",
    "### Tokenize (IMPLEMENTATION)\n",
    "For a neural network to predict on text data, it first has to be turned into data it can understand. Text data like \"dog\" is a sequence of ASCII character encodings.  Since a neural network is a series of multiplication and addition operations, the input data needs to be number(s).\n",
    "\n",
    "We can turn each character into a number or each word into a number.  These are called character and word ids, respectively.  Character ids are used for character level models that generate text predictions for each character.  A word level model uses word ids that generate text predictions for each word.  Word level models tend to learn better, since they are lower in complexity, so we'll use those.\n",
    "\n",
    "Turn each sentence into a sequence of words ids using Keras's [`Tokenizer`](https://keras.io/preprocessing/text/#tokenizer) function. Use this function to tokenize `english_sentences` and `french_sentences` in the cell below.\n",
    "\n",
    "Running the cell will run `tokenize` on sample data and show output for debugging."
   ]
  },
  {
   "cell_type": "code",
   "execution_count": 4,
   "metadata": {},
   "outputs": [
    {
     "name": "stderr",
     "output_type": "stream",
     "text": [
      "Using TensorFlow backend.\n"
     ]
    },
    {
     "name": "stdout",
     "output_type": "stream",
     "text": [
      "{'over': 4, 'prize': 5, 'quick': 1, 'the': 2, 'my': 6, 'a': 3, 'short': 7, 'jumps': 8, 'by': 9, 'dog': 10, 'jove': 19, 'of': 12, 'sentence': 13, 'lazy': 14, 'won': 20, 'fox': 15, 'study': 16, 'lexicography': 17, 'this': 11, 'is': 18, 'brown': 21}\n",
      "\n",
      "Sample 1\n",
      "  The quick brown fox jumps over the lazy dog .\n",
      "  [2, 1, 21, 15, 8, 4, 2, 14, 10]\n",
      "Sample 2\n",
      "  By Jove , my quick study of lexicography won a prize .\n",
      "  [9, 19, 6, 1, 16, 12, 17, 20, 3, 5]\n",
      "Sample 3\n",
      "  This is a short sentence .\n",
      "  [11, 18, 3, 7, 13]\n"
     ]
    }
   ],
   "source": [
    "from keras.preprocessing.text import Tokenizer\n",
    "\n",
    "\n",
    "def tokenize(x):\n",
    "    \"\"\"\n",
    "    Tokenized data\n",
    "    \"\"\"\n",
    "    # TODO: Implement\n",
    "    MAX_NB_WORDS = len(french_words_counter)\n",
    "    \n",
    "    tokenizer = Tokenizer(num_words=MAX_NB_WORDS)\n",
    "    tokenizer.fit_on_texts(x)\n",
    "    sequences = tokenizer.texts_to_sequences(x)\n",
    "    return sequences, tokenizer\n",
    "\n",
    "# Tokenize Example output\n",
    "text_sentences = [\n",
    "    'The quick brown fox jumps over the lazy dog .',\n",
    "    'By Jove , my quick study of lexicography won a prize .',\n",
    "    'This is a short sentence .']\n",
    "text_tokenized, text_tokenizer = tokenize(text_sentences)\n",
    "print(text_tokenizer.word_index)\n",
    "print()\n",
    "for sample_i, (sent, token_sent) in enumerate(zip(text_sentences, text_tokenized)):\n",
    "    print('Sample {}'.format(sample_i + 1))\n",
    "    print('  {}'.format(sent))\n",
    "    print('  {}'.format(token_sent))"
   ]
  },
  {
   "cell_type": "markdown",
   "metadata": {},
   "source": [
    "### Padding (IMPLEMENTATION)\n",
    "When batching the sequence of word ids together, each sequence needs to be the same length.  Since sentences are dynamic in length, we can add padding to the end of the sequences to make them the same length.\n",
    "\n",
    "Make sure all the English sequences have the same length and all the French sequences have the same length by adding padding to the **end** of each sequence using Keras's [`pad_sequences`](https://keras.io/preprocessing/sequence/#pad_sequences) function."
   ]
  },
  {
   "cell_type": "code",
   "execution_count": 5,
   "metadata": {},
   "outputs": [
    {
     "name": "stdout",
     "output_type": "stream",
     "text": [
      "Sample 1\n",
      "   9 Length - [ 2  1 21 15  8  4  2 14 10]\n",
      "  10 Length - [ 0  2  1 21 15  8  4  2 14 10]\n",
      "Sample 2\n",
      "  10 Length - [ 9 19  6  1 16 12 17 20  3  5]\n",
      "  10 Length - [ 9 19  6  1 16 12 17 20  3  5]\n",
      "Sample 3\n",
      "   5 Length - [11 18  3  7 13]\n",
      "  10 Length - [ 0  0  0  0  0 11 18  3  7 13]\n"
     ]
    }
   ],
   "source": [
    "import numpy as np\n",
    "from keras.preprocessing.sequence import pad_sequences\n",
    "\n",
    "\n",
    "def pad(x, length=None):\n",
    "    \"\"\"\n",
    "    Pad data\n",
    "    \"\"\"\n",
    "    # TODO: Implement\n",
    "    x_pad = pad_sequences(x, maxlen=length, dtype='int32')\n",
    "    return x_pad\n",
    "\n",
    "# Pad Tokenized output\n",
    "test_pad = pad(text_tokenized)\n",
    "for sample_i, (token_sent, pad_sent) in enumerate(zip(text_tokenized, test_pad)):\n",
    "    print('Sample {}'.format(sample_i + 1))\n",
    "    print('  {:>2} Length - {}'.format(len(token_sent), np.array(token_sent)))\n",
    "    print('  {:>2} Length - {}'.format(len(pad_sent), pad_sent))"
   ]
  },
  {
   "cell_type": "markdown",
   "metadata": {},
   "source": [
    "### Categorical (IMPLEMENTATION)\n",
    "Since we're predicting on categorical data, we should turn the classes into class vectors using Keras's [`to_categorical`](https://keras.io/utils/#to_categorical) function.  The shape returned by `to_categorical` will lose the sequence length, so You'll have to add back the sequence length using NumPy's `reshape`."
   ]
  },
  {
   "cell_type": "code",
   "execution_count": 6,
   "metadata": {},
   "outputs": [
    {
     "name": "stdout",
     "output_type": "stream",
     "text": [
      "Sample 1\n",
      "[ 0  2  1 21 15  8  4  2 14 10]\n",
      "[[ 1.  0.  0.  0.  0.  0.  0.  0.  0.  0.  0.  0.  0.  0.  0.  0.  0.  0.\n",
      "   0.  0.  0.  0.]\n",
      " [ 0.  0.  1.  0.  0.  0.  0.  0.  0.  0.  0.  0.  0.  0.  0.  0.  0.  0.\n",
      "   0.  0.  0.  0.]\n",
      " [ 0.  1.  0.  0.  0.  0.  0.  0.  0.  0.  0.  0.  0.  0.  0.  0.  0.  0.\n",
      "   0.  0.  0.  0.]\n",
      " [ 0.  0.  0.  0.  0.  0.  0.  0.  0.  0.  0.  0.  0.  0.  0.  0.  0.  0.\n",
      "   0.  0.  0.  1.]\n",
      " [ 0.  0.  0.  0.  0.  0.  0.  0.  0.  0.  0.  0.  0.  0.  0.  1.  0.  0.\n",
      "   0.  0.  0.  0.]\n",
      " [ 0.  0.  0.  0.  0.  0.  0.  0.  1.  0.  0.  0.  0.  0.  0.  0.  0.  0.\n",
      "   0.  0.  0.  0.]\n",
      " [ 0.  0.  0.  0.  1.  0.  0.  0.  0.  0.  0.  0.  0.  0.  0.  0.  0.  0.\n",
      "   0.  0.  0.  0.]\n",
      " [ 0.  0.  1.  0.  0.  0.  0.  0.  0.  0.  0.  0.  0.  0.  0.  0.  0.  0.\n",
      "   0.  0.  0.  0.]\n",
      " [ 0.  0.  0.  0.  0.  0.  0.  0.  0.  0.  0.  0.  0.  0.  1.  0.  0.  0.\n",
      "   0.  0.  0.  0.]\n",
      " [ 0.  0.  0.  0.  0.  0.  0.  0.  0.  0.  1.  0.  0.  0.  0.  0.  0.  0.\n",
      "   0.  0.  0.  0.]]\n",
      "Sample 2\n",
      "[ 9 19  6  1 16 12 17 20  3  5]\n",
      "[[ 0.  0.  0.  0.  0.  0.  0.  0.  0.  1.  0.  0.  0.  0.  0.  0.  0.  0.\n",
      "   0.  0.  0.  0.]\n",
      " [ 0.  0.  0.  0.  0.  0.  0.  0.  0.  0.  0.  0.  0.  0.  0.  0.  0.  0.\n",
      "   0.  1.  0.  0.]\n",
      " [ 0.  0.  0.  0.  0.  0.  1.  0.  0.  0.  0.  0.  0.  0.  0.  0.  0.  0.\n",
      "   0.  0.  0.  0.]\n",
      " [ 0.  1.  0.  0.  0.  0.  0.  0.  0.  0.  0.  0.  0.  0.  0.  0.  0.  0.\n",
      "   0.  0.  0.  0.]\n",
      " [ 0.  0.  0.  0.  0.  0.  0.  0.  0.  0.  0.  0.  0.  0.  0.  0.  1.  0.\n",
      "   0.  0.  0.  0.]\n",
      " [ 0.  0.  0.  0.  0.  0.  0.  0.  0.  0.  0.  0.  1.  0.  0.  0.  0.  0.\n",
      "   0.  0.  0.  0.]\n",
      " [ 0.  0.  0.  0.  0.  0.  0.  0.  0.  0.  0.  0.  0.  0.  0.  0.  0.  1.\n",
      "   0.  0.  0.  0.]\n",
      " [ 0.  0.  0.  0.  0.  0.  0.  0.  0.  0.  0.  0.  0.  0.  0.  0.  0.  0.\n",
      "   0.  0.  1.  0.]\n",
      " [ 0.  0.  0.  1.  0.  0.  0.  0.  0.  0.  0.  0.  0.  0.  0.  0.  0.  0.\n",
      "   0.  0.  0.  0.]\n",
      " [ 0.  0.  0.  0.  0.  1.  0.  0.  0.  0.  0.  0.  0.  0.  0.  0.  0.  0.\n",
      "   0.  0.  0.  0.]]\n",
      "Sample 3\n",
      "[ 0  0  0  0  0 11 18  3  7 13]\n",
      "[[ 1.  0.  0.  0.  0.  0.  0.  0.  0.  0.  0.  0.  0.  0.  0.  0.  0.  0.\n",
      "   0.  0.  0.  0.]\n",
      " [ 1.  0.  0.  0.  0.  0.  0.  0.  0.  0.  0.  0.  0.  0.  0.  0.  0.  0.\n",
      "   0.  0.  0.  0.]\n",
      " [ 1.  0.  0.  0.  0.  0.  0.  0.  0.  0.  0.  0.  0.  0.  0.  0.  0.  0.\n",
      "   0.  0.  0.  0.]\n",
      " [ 1.  0.  0.  0.  0.  0.  0.  0.  0.  0.  0.  0.  0.  0.  0.  0.  0.  0.\n",
      "   0.  0.  0.  0.]\n",
      " [ 1.  0.  0.  0.  0.  0.  0.  0.  0.  0.  0.  0.  0.  0.  0.  0.  0.  0.\n",
      "   0.  0.  0.  0.]\n",
      " [ 0.  0.  0.  0.  0.  0.  0.  0.  0.  0.  0.  1.  0.  0.  0.  0.  0.  0.\n",
      "   0.  0.  0.  0.]\n",
      " [ 0.  0.  0.  0.  0.  0.  0.  0.  0.  0.  0.  0.  0.  0.  0.  0.  0.  0.\n",
      "   1.  0.  0.  0.]\n",
      " [ 0.  0.  0.  1.  0.  0.  0.  0.  0.  0.  0.  0.  0.  0.  0.  0.  0.  0.\n",
      "   0.  0.  0.  0.]\n",
      " [ 0.  0.  0.  0.  0.  0.  0.  1.  0.  0.  0.  0.  0.  0.  0.  0.  0.  0.\n",
      "   0.  0.  0.  0.]\n",
      " [ 0.  0.  0.  0.  0.  0.  0.  0.  0.  0.  0.  0.  0.  1.  0.  0.  0.  0.\n",
      "   0.  0.  0.  0.]]\n"
     ]
    }
   ],
   "source": [
    "from keras.utils import to_categorical\n",
    "\n",
    "\n",
    "def categorize(x, n_categories):\n",
    "    \"\"\"\n",
    "    Turn data into binary class matrices\n",
    "    \"\"\"\n",
    "    # TODO: Implement\n",
    "    x_shape = x.shape\n",
    "    return to_categorical(x, n_categories).reshape((*x_shape, n_categories))\n",
    "\n",
    "# Categorize Padded output\n",
    "test_categories = categorize(test_pad, len(text_tokenizer.word_index) + 1)\n",
    "for sample_i, (pad_sent, test_categorie) in enumerate(zip(test_pad, test_categories)):\n",
    "    print('Sample {}'.format(sample_i + 1))\n",
    "    print(pad_sent)\n",
    "    print(test_categorie)"
   ]
  },
  {
   "cell_type": "markdown",
   "metadata": {},
   "source": [
    "### Preprocess Pipeline\n",
    "Your focus for this project is to build neural network architecture, so we won't ask you to create a preprocess pipeline.  Instead, we've provided you with the implementation of the `preprocess` function."
   ]
  },
  {
   "cell_type": "code",
   "execution_count": 7,
   "metadata": {
    "collapsed": true
   },
   "outputs": [],
   "source": [
    "def preprocess(x, y):\n",
    "    pad_length = None\n",
    "    preprocess_x, x_tk = tokenize(x)\n",
    "    preprocess_y, y_tk = tokenize(y)\n",
    "\n",
    "    preprocess_x = pad(preprocess_x, pad_length)\n",
    "    preprocess_y = pad(preprocess_y, pad_length)\n",
    "\n",
    "    preprocess_y = categorize(preprocess_y, len(y_tk.word_index) + 1)\n",
    "    \n",
    "    # print shapes\n",
    "#     print(preprocess_x.shape)\n",
    "#     print(preprocess_y.shape)\n",
    "#     print(x_tk.word_index)\n",
    "#     print(y_tk.word_index)\n",
    "    \n",
    "    return preprocess_x, preprocess_y, x_tk, y_tk"
   ]
  },
  {
   "cell_type": "code",
   "execution_count": 8,
   "metadata": {},
   "outputs": [
    {
     "name": "stdout",
     "output_type": "stream",
     "text": [
      "(137861, 15)\n",
      "(137861, 21, 345)\n",
      "{'plans': 133, 'grocery': 184, 'the': 5, 'animal': 99, 'plan': 125, 'orange': 82, 'june': 34, 'march': 38, 'eiffel': 182, 'bird': 153, 'mouse': 154, 'snakes': 169, 'green': 111, 'september': 42, 'china': 25, 'have': 198, 'spanish': 139, 'warm': 56, 'driving': 107, 'freezing': 51, 'strawberries': 71, 'was': 104, 'busy': 60, 'this': 122, 'jersey': 23, 'shark': 155, 'snowy': 55, 'their': 49, 'school': 183, 'between': 131, 'is': 1, 'horses': 170, \"it's\": 149, 'saw': 127, 'little': 109, 'horse': 164, 'dislike': 93, 'autumn': 39, 'apples': 72, 'cat': 156, 'likes': 69, 'does': 194, 'drives': 128, 'red': 112, 'cats': 171, 'dislikes': 70, 'feared': 123, 'his': 30, 'wet': 65, 'liked': 16, 'we': 97, 'lion': 157, 'has': 195, 'would': 190, 'april': 44, 'new': 17, 'are': 120, 'dog': 158, 'during': 4, 'bears': 172, 'drove': 130, 'going': 126, 'lemons': 73, 'mangoes': 74, 'black': 113, 'when': 165, 'a': 100, 'shiny': 114, 'sometimes': 8, 'lime': 84, 'rabbit': 159, 'but': 6, 'chilly': 62, 'car': 101, 'did': 152, 'i': 96, 'and': 7, 'may': 40, 'least': 12, 'lions': 173, \"isn't\": 196, 'most': 14, 'last': 121, 'lemon': 86, 'usually': 9, 'why': 150, 'football': 187, 'old': 117, 'wanted': 135, 'january': 36, 'english': 140, 'easy': 145, 'fun': 146, 'pear': 87, 'nice': 41, 'truck': 102, 'he': 26, 'bananas': 75, 'weather': 193, 'go': 106, 'hot': 68, 'fall': 33, 'summer': 46, 'fruit': 13, 'dogs': 174, 'that': 95, 'february': 48, 'she': 27, 'peaches': 76, 'your': 29, 'grapes': 77, 'in': 2, 'never': 10, 'quiet': 67, 'banana': 85, 'white': 115, 'to': 81, 'mango': 88, 'november': 45, 'big': 110, 'august': 61, 'oranges': 78, 'bear': 161, 'field': 185, 'grape': 89, 'our': 50, 'tower': 186, 'disliked': 129, 'visit': 108, 'loved': 15, 'where': 199, 'translating': 144, 'mice': 177, 'favorite': 11, 'relaxing': 66, 'united': 21, 'went': 136, 'france': 24, 'paris': 18, 'her': 31, 'dry': 59, 'difficult': 147, 'might': 137, 'states': 20, 'rusty': 116, 'apple': 90, 'were': 134, 'how': 168, 'india': 19, 'been': 191, 'october': 54, 'monkeys': 179, 'like': 92, 'mild': 64, 'pleasant': 52, 'rainy': 63, 'portuguese': 141, 'july': 43, 'next': 105, 'they': 94, 'blue': 118, 'elephants': 175, 'lake': 188, \"aren't\": 192, 'cold': 57, 'beautiful': 53, 'do': 167, 'yellow': 119, 'sharks': 176, 'snake': 162, 'french': 142, 'automobile': 103, 'limes': 79, 'want': 166, 'think': 151, \"didn't\": 181, 'it': 3, 'my': 32, 'wants': 148, 'wonderful': 58, 'strawberry': 91, 'elephant': 163, 'translate': 132, 'grapefruit': 28, 'monkey': 160, 'winter': 37, 'birds': 178, 'rabbits': 180, 'pears': 80, 'animals': 124, 'store': 189, 'chinese': 143, 'california': 22, 'december': 47, 'thinks': 138, 'am': 197, 'peach': 83, 'you': 98, 'spring': 35}\n",
      "{'vit': 327, 'verte': 150, 'vers': 250, 'noir': 176, 'cher': 119, 'du': 285, 'éléphants': 256, 'ce': 115, 'chien': 213, 'préférés': 175, 'at': 287, 'pense': 160, 'préférée': 140, 'vont': 229, 'va': 180, 'automne': 24, 'sèche': 137, 'occupée': 138, 'voiture': 97, 'cet': 192, 'légère': 269, 'aimait': 143, 'frisquet': 139, 'français': 185, 'chaux': 83, 'mois': 25, 'le': 10, 'merveilleux': 57, 'août': 56, 'redouté': 156, 'juin': 41, 'bien': 249, 'vos': 209, 'nouveau': 163, 'pêche': 84, 'congélation': 306, 'tout': 326, 'terrain': 273, 'était': 122, \"n'aimez\": 128, 'doux': 58, 'votre': 40, 'chinois': 186, 'voulait': 203, 'aime': 55, 'raisins': 77, 'généralement': 12, 'new': 35, 'je': 116, 'bananes': 70, 'porcelaine': 301, 'pamplemousse': 38, 'mouillé': 195, 'les': 4, 'neige': 102, 'lac': 274, \"l'école\": 272, 'êtes': 292, 'raisin': 82, 'a': 118, 'animaux': 141, 'vieille': 148, 'plus': 23, 'allez': 281, 'manguiers': 298, 'singes': 257, 'notre': 61, 'souvent': 337, \"n'êtes\": 328, 'que': 146, 'se': 167, 'relaxant': 59, 'dernier': 142, 'redoutés': 222, 'ne': 105, 'aimé': 14, 'pourrait': 202, 'lions': 258, 'petites': 290, 'aiment': 124, 'brillant': 154, 'belle': 104, 'préféré': 17, 'football': 275, 'détestait': 247, 'pommes': 71, \"l'épicerie\": 278, 'chats': 259, \"l'ours\": 260, 'il': 3, 'magnifique': 243, 'pluies': 177, 'fruit': 16, 'à': 26, 'conduite': 324, 'vieux': 183, 'pamplemousses': 159, 'traduction': 194, 'visite': 254, 'souris': 201, 'gèle': 95, 'espagnol': 187, 'enneigée': 92, \"l'éléphant\": 261, 'aimeraient': 310, 'banane': 87, 'blanc': 171, 'noire': 153, 'plaît': 309, 'détestons': 132, 'ours': 215, 'rouillée': 165, 'tour': 276, 'aimés': 206, 'tranquille': 117, 'déteste': 94, 'oranges': 72, 'allé': 223, 'pêches': 73, 'lapin': 216, 'éléphant': 236, \"l'animal\": 279, 'serpents': 262, 'douce': 307, 'france': 33, 'qui': 330, 'voulaient': 238, 'paris': 29, 'brillante': 174, 'lapins': 263, 'gel': 81, 'nos': 152, 'vais': 294, 'chiens': 268, \"qu'elle\": 291, 'citrons': 28, 'serpent': 217, 'janvier': 43, 'mai': 47, 'leur': 64, 'pleut': 157, 'prochain': 114, 'grande': 168, 'moteur': 338, 'de': 22, 'poires': 74, 't': 300, 'amusant': 196, 'favori': 93, 'pendant': 37, 'grands': 316, 'habituellement': 69, \"l'\": 11, 'glaciales': 190, 'sec': 63, 'gelé': 246, 'faire': 340, 'visiter': 136, 'grosse': 224, 'une': 120, 'prévoit': 251, 'moindres': 321, 'avril': 50, 'mangues': 78, 'aller': 123, 'frais': 296, \"l'oiseau\": 264, \"c'est\": 302, 'cours': 111, 'redoutée': 331, 'cette': 121, 'allions': 341, 'aimez': 130, 'californie': 62, 'difficile': 197, 'étaient': 179, 'jaune': 133, 'quand': 235, 'temps': 286, 'california': 101, 'intention': 210, 'durant': 308, 'proches': 297, 'avez': 231, 'novembre': 51, \"n'est\": 280, 'apprécié': 332, 'mes': 191, 'chat': 218, 'petit': 184, 'peu': 283, 'animal': 109, 'aimée': 242, 'facile': 198, \"n'aimait\": 158, 'eiffel': 277, 'rouille': 288, 'petite': 151, 'au': 15, 'ils': 99, 'elle': 27, 'conduit': 113, 'aux': 173, 'calme': 67, 'anglais': 188, \"n'a\": 311, 'jersey': 34, 'grandes': 304, 'fraise': 85, 'pourquoi': 205, 'tu': 333, 'moins': 13, 'est': 1, 'dans': 312, 'fruits': 96, 'oiseaux': 265, 'citron': 86, 'ont': 212, 'vu': 149, 'bleu': 166, 'es': 342, 'mon': 39, 'enneigé': 322, 'hiver': 44, 'veulent': 239, 'prévoient': 252, 'petits': 315, 'la': 7, 'et': 6, 'lui': 253, 'pourraient': 240, \"d'\": 79, 'mangue': 80, 'détendre': 241, \"l'automobile\": 244, 'printemps': 42, 'bleue': 162, 'trouvé': 343, 'septembre': 48, 'chevaux': 266, 'chaude': 125, 'inde': 30, 'gros': 200, 'sur': 289, 'verts': 76, 'entre': 161, 'allés': 232, 'conduisait': 145, 'pousse': 284, 'vous': 106, 'cépage': 270, 'i': 233, \"j'aime\": 135, 'monde': 226, 'comme': 199, 'agréable': 18, 'as': 339, 'dernière': 293, 'rouge': 134, \"n'aimons\": 245, 'occupé': 65, 'grand': 248, 'beau': 68, 'traduis': 334, 'ressort': 335, 'allée': 234, 'vert': 182, 'maillot': 228, 'grosses': 320, 'gelés': 325, 'clémentes': 211, 'ses': 170, 'son': 20, 'prévois': 207, 'pensez': 271, 'rendre': 181, \"l'automne\": 98, 'favoris': 344, 'fait': 103, 'humide': 60, 'février': 53, 'nous': 107, 'octobre': 54, 'avons': 299, 'nouvelle': 147, \"qu'il\": 172, 'mars': 45, 'pomme': 88, 'unis': 31, 'voulez': 313, 'allons': 282, 'bénigne': 319, 'parfois': 8, 'froid': 19, 'pluvieux': 66, 'requins': 267, 'singe': 219, 'où': 314, 'envisage': 178, 'poire': 89, 'voudrait': 295, 'volant': 230, \"n'aiment\": 126, 'trop': 227, 'pluie': 225, 'lion': 214, 'jamais': 9, 'traduire': 164, 'en': 2, 'préférées': 305, 'etats': 329, 'été': 46, 'détend': 336, 'neigeux': 112, 'requin': 220, 'oiseau': 237, 'camion': 110, 'états': 32, \"l'orange\": 90, 'automobile': 193, 'limes': 317, \"n'aime\": 100, 'fraises': 75, 'leurs': 129, 'cheval': 221, 'pas': 91, 'chaud': 21, 'décembre': 52, 'détestez': 303, 'rouillé': 169, 'un': 144, 'mais': 5, 'des': 108, 'aimons': 127, 'prévoyons': 208, 'comment': 255, 'chine': 36, 'juillet': 49, 'envisagent': 318, 'veut': 204, 'portugais': 189, 'sont': 131, 'mouillée': 323, 'blanche': 155}\n"
     ]
    },
    {
     "data": {
      "text/plain": [
       "(array([[ 0,  0, 17, ..., 55,  2, 44],\n",
       "        [ 5, 21, 20, ..., 51,  2, 45],\n",
       "        [ 0,  0, 22, ..., 68,  2, 34],\n",
       "        ..., \n",
       "        [ 0,  0, 24, ..., 64,  2, 54],\n",
       "        [ 0,  0,  0, ...,  1, 29, 11],\n",
       "        [ 0,  0,  0, ...,  0,  0,  0]], dtype=int32),\n",
       " array([[[ 1.,  0.,  0., ...,  0.,  0.,  0.],\n",
       "         [ 1.,  0.,  0., ...,  0.,  0.,  0.],\n",
       "         [ 1.,  0.,  0., ...,  0.,  0.,  0.],\n",
       "         ..., \n",
       "         [ 0.,  0.,  0., ...,  0.,  0.,  0.],\n",
       "         [ 0.,  0.,  1., ...,  0.,  0.,  0.],\n",
       "         [ 0.,  0.,  0., ...,  0.,  0.,  0.]],\n",
       " \n",
       "        [[ 1.,  0.,  0., ...,  0.,  0.,  0.],\n",
       "         [ 1.,  0.,  0., ...,  0.,  0.,  0.],\n",
       "         [ 1.,  0.,  0., ...,  0.,  0.,  0.],\n",
       "         ..., \n",
       "         [ 0.,  0.,  0., ...,  0.,  0.,  0.],\n",
       "         [ 0.,  0.,  1., ...,  0.,  0.,  0.],\n",
       "         [ 0.,  0.,  0., ...,  0.,  0.,  0.]],\n",
       " \n",
       "        [[ 1.,  0.,  0., ...,  0.,  0.,  0.],\n",
       "         [ 1.,  0.,  0., ...,  0.,  0.,  0.],\n",
       "         [ 1.,  0.,  0., ...,  0.,  0.,  0.],\n",
       "         ..., \n",
       "         [ 0.,  0.,  0., ...,  0.,  0.,  0.],\n",
       "         [ 0.,  0.,  1., ...,  0.,  0.,  0.],\n",
       "         [ 0.,  0.,  0., ...,  0.,  0.,  0.]],\n",
       " \n",
       "        ..., \n",
       "        [[ 1.,  0.,  0., ...,  0.,  0.,  0.],\n",
       "         [ 1.,  0.,  0., ...,  0.,  0.,  0.],\n",
       "         [ 1.,  0.,  0., ...,  0.,  0.,  0.],\n",
       "         ..., \n",
       "         [ 0.,  0.,  0., ...,  0.,  0.,  0.],\n",
       "         [ 0.,  0.,  1., ...,  0.,  0.,  0.],\n",
       "         [ 0.,  0.,  0., ...,  0.,  0.,  0.]],\n",
       " \n",
       "        [[ 1.,  0.,  0., ...,  0.,  0.,  0.],\n",
       "         [ 1.,  0.,  0., ...,  0.,  0.,  0.],\n",
       "         [ 1.,  0.,  0., ...,  0.,  0.,  0.],\n",
       "         ..., \n",
       "         [ 0.,  1.,  0., ...,  0.,  0.,  0.],\n",
       "         [ 0.,  0.,  0., ...,  0.,  0.,  0.],\n",
       "         [ 0.,  0.,  0., ...,  0.,  0.,  0.]],\n",
       " \n",
       "        [[ 1.,  0.,  0., ...,  0.,  0.,  0.],\n",
       "         [ 1.,  0.,  0., ...,  0.,  0.,  0.],\n",
       "         [ 1.,  0.,  0., ...,  0.,  0.,  0.],\n",
       "         ..., \n",
       "         [ 1.,  0.,  0., ...,  0.,  0.,  0.],\n",
       "         [ 1.,  0.,  0., ...,  0.,  0.,  0.],\n",
       "         [ 1.,  0.,  0., ...,  0.,  0.,  0.]]]),\n",
       " <keras.preprocessing.text.Tokenizer at 0x115533f98>,\n",
       " <keras.preprocessing.text.Tokenizer at 0x1133c4780>)"
      ]
     },
     "execution_count": 8,
     "metadata": {},
     "output_type": "execute_result"
    }
   ],
   "source": [
    "preprocess(english_sentences, french_sentences)"
   ]
  },
  {
   "cell_type": "markdown",
   "metadata": {},
   "source": [
    "## Models\n",
    "In this section, you will experiment with various neural network architectures.\n",
    "You will begin by training four relatively simple architectures.\n",
    "- Model 1 is a simple RNN\n",
    "- Model 2 is a RNN with Embedding\n",
    "- Model 3 is a Encoder-Decoder\n",
    "- Model 4 is a Bidirectional RNN\n",
    "\n",
    "After experimenting with the four simple architectures, you will construct a deeper architecture that is designed to outperform all four models.\n",
    "\n",
    "Each model will want the input in a different form.  While you did preprocess the English sentences, you'll have to add additional padding and/or reshape it to 3 dimensions for the right situation.\n",
    "### Model 1: RNN (IMPLEMENTATION)\n",
    "![RNN](images/rnn.png)\n",
    "A basic RNN model is a good baseline for sequence data.  In this model, you'll build a RNN that translates English to French."
   ]
  },
  {
   "cell_type": "code",
   "execution_count": 15,
   "metadata": {},
   "outputs": [
    {
     "name": "stdout",
     "output_type": "stream",
     "text": [
      "_________________________________________________________________\n",
      "Layer (type)                 Output Shape              Param #   \n",
      "=================================================================\n",
      "gru_10 (GRU)                 (None, 256)               208896    \n",
      "_________________________________________________________________\n",
      "activation_7 (Activation)    (None, 256)               0         \n",
      "=================================================================\n",
      "Total params: 208,896.0\n",
      "Trainable params: 208,896.0\n",
      "Non-trainable params: 0.0\n",
      "_________________________________________________________________\n"
     ]
    }
   ],
   "source": [
    "from keras.models import Sequential\n",
    "from keras.layers import GRU, Input, Dense, TimeDistributed\n",
    "from keras.models import Model\n",
    "from keras.layers import Activation\n",
    "from keras.optimizers import Adam\n",
    "\n",
    "\n",
    "def model_one(x, y, x_tk, y_tk):\n",
    "    # TODO: Implement\n",
    "    model = Sequential()\n",
    "    model.add(GRU(256, return_sequences=False, input_shape=(137861, 15))) # preprocess_x shape\n",
    "    model.add(Activation('softmax'))\n",
    "    model.compile(loss='categorical_crossentropy', optimizer='adam')\n",
    "    model.summary()\n",
    "    \n",
    "model_one(*preprocess(english_sentences, french_sentences))"
   ]
  },
  {
   "cell_type": "markdown",
   "metadata": {},
   "source": [
    "### Model 2: Embedding (IMPLEMENTATION)\n",
    "![RNN](images/embedding.png)\n",
    "You've turned the words into ids, but there's a better representation of a word.  This is called word embeddings.  An embedding is a vector representation of the word that is close to similar words in n-dimensional space, where the n represents the size of the embedding vectors.\n",
    "\n",
    "In this model, you'll create a RNN model using embedding."
   ]
  },
  {
   "cell_type": "code",
   "execution_count": 16,
   "metadata": {},
   "outputs": [
    {
     "name": "stdout",
     "output_type": "stream",
     "text": [
      "_________________________________________________________________\n",
      "Layer (type)                 Output Shape              Param #   \n",
      "=================================================================\n",
      "embedding_6 (Embedding)      (None, 137861, 335)       76045     \n",
      "_________________________________________________________________\n",
      "activation_8 (Activation)    (None, 137861, 335)       0         \n",
      "=================================================================\n",
      "Total params: 76,045.0\n",
      "Trainable params: 76,045.0\n",
      "Non-trainable params: 0.0\n",
      "_________________________________________________________________\n"
     ]
    }
   ],
   "source": [
    "from keras.layers.embeddings import Embedding\n",
    "\n",
    "\n",
    "def model_two(x, y, x_tk, y_tk):\n",
    "    # TODO: Implement\n",
    "    model = Sequential()\n",
    "    model.add(Embedding(input_dim=227, output_dim=335, input_length=137861, mask_zero=True))\n",
    "    model.add(Activation('softmax'))\n",
    "    model.compile(loss='categorical_crossentropy', optimizer='adam')\n",
    "    model.summary()\n",
    "    \n",
    "model_two(*preprocess(english_sentences, french_sentences))"
   ]
  },
  {
   "cell_type": "markdown",
   "metadata": {},
   "source": [
    "### Model 3: Encoder-Decoder (IMPLEMENTATION)\n",
    "![RNN](images/encoder_decoder.png)\n",
    "Time to look at encoder-decoder models.  This model is made up of an encoder and decoder. The encoder creates a matrix representation of the sentence.  The decoder takes this matrix as input and predicts the translation as output.\n",
    "\n",
    "Create an encoder-decoder model in the cell below."
   ]
  },
  {
   "cell_type": "code",
   "execution_count": 17,
   "metadata": {},
   "outputs": [
    {
     "name": "stdout",
     "output_type": "stream",
     "text": [
      "_________________________________________________________________\n",
      "Layer (type)                 Output Shape              Param #   \n",
      "=================================================================\n",
      "embedding_7 (Embedding)      (None, 137861, 335)       76045     \n",
      "_________________________________________________________________\n",
      "gru_11 (GRU)                 (None, 256)               454656    \n",
      "_________________________________________________________________\n",
      "repeat_vector_5 (RepeatVecto (None, 335, 256)          0         \n",
      "_________________________________________________________________\n",
      "gru_12 (GRU)                 (None, 335, 256)          393984    \n",
      "_________________________________________________________________\n",
      "time_distributed_5 (TimeDist (None, 335, 335)          86095     \n",
      "_________________________________________________________________\n",
      "activation_9 (Activation)    (None, 335, 335)          0         \n",
      "=================================================================\n",
      "Total params: 1,010,780.0\n",
      "Trainable params: 1,010,780.0\n",
      "Non-trainable params: 0.0\n",
      "_________________________________________________________________\n"
     ]
    }
   ],
   "source": [
    "from keras.layers import RepeatVector\n",
    "\n",
    "\n",
    "def model_three(x, y, x_tk, y_tk):\n",
    "    # TODO: Implement\n",
    "    \n",
    "    # encoder\n",
    "    model = Sequential()\n",
    "    model.add(Embedding(input_dim=227, output_dim=335, input_length=137861, mask_zero=True))\n",
    "    model.add(GRU(256, return_sequences=False))\n",
    "    \n",
    "    # decoder\n",
    "    model.add(RepeatVector(335))\n",
    "    model.add(GRU(256, return_sequences=True))\n",
    "    model.add(TimeDistributed(Dense(335)))\n",
    "    model.add(Activation('softmax'))\n",
    "    \n",
    "    model.compile(loss='categorical_crossentropy', optimizer='adam')\n",
    "    model.summary()\n",
    "\n",
    "\n",
    "model_three(*preprocess(english_sentences, french_sentences))"
   ]
  },
  {
   "cell_type": "markdown",
   "metadata": {},
   "source": [
    "### Model 4: Bidirectional RNNs (IMPLEMENTATION)\n",
    "![RNN](images/bidirectional.png)\n",
    "One restriction of a RNN is that it can't see the future input, only the past.  This is where bidirectional recurrent neural networks come in.  They are able to see the future data."
   ]
  },
  {
   "cell_type": "code",
   "execution_count": 19,
   "metadata": {},
   "outputs": [
    {
     "name": "stdout",
     "output_type": "stream",
     "text": [
      "_________________________________________________________________\n",
      "Layer (type)                 Output Shape              Param #   \n",
      "=================================================================\n",
      "bidirectional_2 (Bidirection (None, 512)               417792    \n",
      "_________________________________________________________________\n",
      "activation_10 (Activation)   (None, 512)               0         \n",
      "=================================================================\n",
      "Total params: 417,792.0\n",
      "Trainable params: 417,792.0\n",
      "Non-trainable params: 0.0\n",
      "_________________________________________________________________\n"
     ]
    }
   ],
   "source": [
    "from keras.layers import Bidirectional\n",
    "\n",
    "\n",
    "def model_four(x, y, x_tk, y_tk):\n",
    "    # TODO: Implement\n",
    "    model = Sequential()\n",
    "    model.add(Bidirectional(GRU(256), input_shape=(137861, 15)))\n",
    "    model.add(Activation('softmax'))\n",
    "    model.compile(loss='categorical_crossentropy', optimizer='adam')\n",
    "    model.summary()\n",
    "\n",
    "\n",
    "model_four(*preprocess(english_sentences, french_sentences))"
   ]
  },
  {
   "cell_type": "markdown",
   "metadata": {},
   "source": [
    "### Model 5: Custom (IMPLEMENTATION)\n",
    "Use everything you learned from the previous 4 models to create a model that incorporates embedding, encoder-decoder, and bidirectional rnn into one model."
   ]
  },
  {
   "cell_type": "code",
   "execution_count": 20,
   "metadata": {
    "collapsed": true
   },
   "outputs": [],
   "source": [
    "def model_final(x, y, x_tk, y_tk):\n",
    "    # TODO: Implement\n",
    "    \n",
    "    # encoder\n",
    "    model = Sequential()\n",
    "    model.add(Bidirectional(GRU(256), input_shape=(137861, 15)))    \n",
    "    model.add(Embedding(input_dim=227, output_dim=335, input_length=137861, mask_zero=True))\n",
    "    model.add(GRU(256, return_sequences=False))\n",
    "    \n",
    "    # decoder\n",
    "    model.add(RepeatVector(335))\n",
    "    model.add(GRU(256, return_sequences=True))\n",
    "    model.add(TimeDistributed(Dense(335)))\n",
    "    model.add(Activation('softmax'))\n",
    "    \n",
    "    model.compile(loss='categorical_crossentropy', optimizer='adam')\n",
    "    model.summary()\n",
    "    \n",
    "    return None"
   ]
  },
  {
   "cell_type": "markdown",
   "metadata": {},
   "source": [
    "## Prediction"
   ]
  },
  {
   "cell_type": "code",
   "execution_count": 21,
   "metadata": {},
   "outputs": [
    {
     "name": "stdout",
     "output_type": "stream",
     "text": [
      "_________________________________________________________________\n",
      "Layer (type)                 Output Shape              Param #   \n",
      "=================================================================\n",
      "bidirectional_3 (Bidirection (None, 512)               417792    \n",
      "_________________________________________________________________\n",
      "embedding_8 (Embedding)      (None, 137861, 335)       76045     \n",
      "_________________________________________________________________\n",
      "gru_16 (GRU)                 (None, 256)               454656    \n",
      "_________________________________________________________________\n",
      "repeat_vector_6 (RepeatVecto (None, 335, 256)          0         \n",
      "_________________________________________________________________\n",
      "gru_17 (GRU)                 (None, 335, 256)          393984    \n",
      "_________________________________________________________________\n",
      "time_distributed_6 (TimeDist (None, 335, 335)          86095     \n",
      "_________________________________________________________________\n",
      "activation_11 (Activation)   (None, 335, 335)          0         \n",
      "=================================================================\n",
      "Total params: 1,428,572.0\n",
      "Trainable params: 1,428,572.0\n",
      "Non-trainable params: 0.0\n",
      "_________________________________________________________________\n"
     ]
    },
    {
     "ename": "KeyError",
     "evalue": "'.'",
     "output_type": "error",
     "traceback": [
      "\u001b[0;31m---------------------------------------------------------------------------\u001b[0m",
      "\u001b[0;31mKeyError\u001b[0m                                  Traceback (most recent call last)",
      "\u001b[0;32m<ipython-input-21-7f3fa4d29f62>\u001b[0m in \u001b[0;36m<module>\u001b[0;34m()\u001b[0m\n\u001b[1;32m     27\u001b[0m \u001b[0;34m\u001b[0m\u001b[0m\n\u001b[1;32m     28\u001b[0m \u001b[0;34m\u001b[0m\u001b[0m\n\u001b[0;32m---> 29\u001b[0;31m \u001b[0mfinal_predictions\u001b[0m\u001b[0;34m(\u001b[0m\u001b[0;34m*\u001b[0m\u001b[0mpreprocess\u001b[0m\u001b[0;34m(\u001b[0m\u001b[0menglish_sentences\u001b[0m\u001b[0;34m,\u001b[0m \u001b[0mfrench_sentences\u001b[0m\u001b[0;34m)\u001b[0m\u001b[0;34m)\u001b[0m\u001b[0;34m\u001b[0m\u001b[0m\n\u001b[0m",
      "\u001b[0;32m<ipython-input-21-7f3fa4d29f62>\u001b[0m in \u001b[0;36mfinal_predictions\u001b[0;34m(x, y, x_tk, y_tk)\u001b[0m\n\u001b[1;32m     14\u001b[0m \u001b[0;34m\u001b[0m\u001b[0m\n\u001b[1;32m     15\u001b[0m     \u001b[0msentence\u001b[0m \u001b[0;34m=\u001b[0m \u001b[0;34m'he saw a old yellow truck .'\u001b[0m\u001b[0;34m\u001b[0m\u001b[0m\n\u001b[0;32m---> 16\u001b[0;31m     \u001b[0msentence\u001b[0m \u001b[0;34m=\u001b[0m \u001b[0;34m[\u001b[0m\u001b[0mx_tokenizer\u001b[0m\u001b[0;34m.\u001b[0m\u001b[0mword_index\u001b[0m\u001b[0;34m[\u001b[0m\u001b[0mword\u001b[0m\u001b[0;34m]\u001b[0m \u001b[0;32mfor\u001b[0m \u001b[0mword\u001b[0m \u001b[0;32min\u001b[0m \u001b[0msentence\u001b[0m\u001b[0;34m.\u001b[0m\u001b[0msplit\u001b[0m\u001b[0;34m(\u001b[0m\u001b[0;34m)\u001b[0m\u001b[0;34m]\u001b[0m\u001b[0;34m\u001b[0m\u001b[0m\n\u001b[0m\u001b[1;32m     17\u001b[0m     \u001b[0msentence\u001b[0m \u001b[0;34m=\u001b[0m \u001b[0mpad_sequences\u001b[0m\u001b[0;34m(\u001b[0m\u001b[0;34m[\u001b[0m\u001b[0msentence\u001b[0m\u001b[0;34m]\u001b[0m\u001b[0;34m,\u001b[0m \u001b[0mmaxlen\u001b[0m\u001b[0;34m=\u001b[0m\u001b[0mx\u001b[0m\u001b[0;34m.\u001b[0m\u001b[0mshape\u001b[0m\u001b[0;34m[\u001b[0m\u001b[0;34m-\u001b[0m\u001b[0;36m1\u001b[0m\u001b[0;34m]\u001b[0m\u001b[0;34m,\u001b[0m \u001b[0mpadding\u001b[0m\u001b[0;34m=\u001b[0m\u001b[0;34m'post'\u001b[0m\u001b[0;34m)\u001b[0m\u001b[0;34m\u001b[0m\u001b[0m\n\u001b[1;32m     18\u001b[0m     \u001b[0msentences\u001b[0m \u001b[0;34m=\u001b[0m \u001b[0mnp\u001b[0m\u001b[0;34m.\u001b[0m\u001b[0marray\u001b[0m\u001b[0;34m(\u001b[0m\u001b[0;34m[\u001b[0m\u001b[0msentence\u001b[0m\u001b[0;34m[\u001b[0m\u001b[0;36m0\u001b[0m\u001b[0;34m]\u001b[0m\u001b[0;34m,\u001b[0m \u001b[0mx\u001b[0m\u001b[0;34m[\u001b[0m\u001b[0;36m0\u001b[0m\u001b[0;34m]\u001b[0m\u001b[0;34m]\u001b[0m\u001b[0;34m)\u001b[0m\u001b[0;34m\u001b[0m\u001b[0m\n",
      "\u001b[0;32m<ipython-input-21-7f3fa4d29f62>\u001b[0m in \u001b[0;36m<listcomp>\u001b[0;34m(.0)\u001b[0m\n\u001b[1;32m     14\u001b[0m \u001b[0;34m\u001b[0m\u001b[0m\n\u001b[1;32m     15\u001b[0m     \u001b[0msentence\u001b[0m \u001b[0;34m=\u001b[0m \u001b[0;34m'he saw a old yellow truck .'\u001b[0m\u001b[0;34m\u001b[0m\u001b[0m\n\u001b[0;32m---> 16\u001b[0;31m     \u001b[0msentence\u001b[0m \u001b[0;34m=\u001b[0m \u001b[0;34m[\u001b[0m\u001b[0mx_tokenizer\u001b[0m\u001b[0;34m.\u001b[0m\u001b[0mword_index\u001b[0m\u001b[0;34m[\u001b[0m\u001b[0mword\u001b[0m\u001b[0;34m]\u001b[0m \u001b[0;32mfor\u001b[0m \u001b[0mword\u001b[0m \u001b[0;32min\u001b[0m \u001b[0msentence\u001b[0m\u001b[0;34m.\u001b[0m\u001b[0msplit\u001b[0m\u001b[0;34m(\u001b[0m\u001b[0;34m)\u001b[0m\u001b[0;34m]\u001b[0m\u001b[0;34m\u001b[0m\u001b[0m\n\u001b[0m\u001b[1;32m     17\u001b[0m     \u001b[0msentence\u001b[0m \u001b[0;34m=\u001b[0m \u001b[0mpad_sequences\u001b[0m\u001b[0;34m(\u001b[0m\u001b[0;34m[\u001b[0m\u001b[0msentence\u001b[0m\u001b[0;34m]\u001b[0m\u001b[0;34m,\u001b[0m \u001b[0mmaxlen\u001b[0m\u001b[0;34m=\u001b[0m\u001b[0mx\u001b[0m\u001b[0;34m.\u001b[0m\u001b[0mshape\u001b[0m\u001b[0;34m[\u001b[0m\u001b[0;34m-\u001b[0m\u001b[0;36m1\u001b[0m\u001b[0;34m]\u001b[0m\u001b[0;34m,\u001b[0m \u001b[0mpadding\u001b[0m\u001b[0;34m=\u001b[0m\u001b[0;34m'post'\u001b[0m\u001b[0;34m)\u001b[0m\u001b[0;34m\u001b[0m\u001b[0m\n\u001b[1;32m     18\u001b[0m     \u001b[0msentences\u001b[0m \u001b[0;34m=\u001b[0m \u001b[0mnp\u001b[0m\u001b[0;34m.\u001b[0m\u001b[0marray\u001b[0m\u001b[0;34m(\u001b[0m\u001b[0;34m[\u001b[0m\u001b[0msentence\u001b[0m\u001b[0;34m[\u001b[0m\u001b[0;36m0\u001b[0m\u001b[0;34m]\u001b[0m\u001b[0;34m,\u001b[0m \u001b[0mx\u001b[0m\u001b[0;34m[\u001b[0m\u001b[0;36m0\u001b[0m\u001b[0;34m]\u001b[0m\u001b[0;34m]\u001b[0m\u001b[0;34m)\u001b[0m\u001b[0;34m\u001b[0m\u001b[0m\n",
      "\u001b[0;31mKeyError\u001b[0m: '.'"
     ]
    }
   ],
   "source": [
    "import numpy as np\n",
    "from keras.preprocessing.sequence import pad_sequences\n",
    "\n",
    "\n",
    "def final_predictions(x, y, x_tk, y_tk):\n",
    "    model = model_final(x, y, x_tk, y_tk)\n",
    "\n",
    "    # Set the tokenizer for the English data\n",
    "    x_tokenizer = x_tk\n",
    "    # Set the tokenizer for the French data\n",
    "    y_tokenizer = y_tk\n",
    "    y_id_to_word = {value: key for key, value in y_tokenizer.word_index.items()}\n",
    "    y_id_to_word[0] = '<PAD>'\n",
    "\n",
    "    sentence = 'he saw a old yellow truck .'\n",
    "    sentence = [x_tokenizer.word_index[word] for word in sentence.split()]\n",
    "    sentence = pad_sequences([sentence], maxlen=x.shape[-1], padding='post')\n",
    "    sentences = np.array([sentence[0], x[0]])\n",
    "    predictions = model.predict(sentences, len(sentences))\n",
    "\n",
    "    print('Sample 1:')\n",
    "    print(' '.join([y_id_to_word[np.argmax(x)] for x in predictions[0]]))\n",
    "    print('Il a vu un vieux camion jaune.')\n",
    "    print('Sample 2:')\n",
    "    print(' '.join([y_id_to_word[np.argmax(x)] for x in predictions[1]]))\n",
    "    print(' '.join([y_id_to_word[np.argmax(x)] for x in y[0]]))\n",
    "\n",
    "\n",
    "final_predictions(*preprocess(english_sentences, french_sentences))"
   ]
  },
  {
   "cell_type": "markdown",
   "metadata": {},
   "source": [
    "## Submission\n",
    "When you are ready to submit your project, do the following steps:\n",
    "1. Ensure you pass all points on the [rubric](https://review.udacity.com/#!/rubrics/1004/view).\n",
    "2. Submit the following in a zip file.\n",
    "  - `helper.py`\n",
    "  - `machine_translation.ipynb`\n",
    "  - `machine_translation.html`\n",
    "    - You can export the notebook by navigating to **File -> Download as -> HTML (.html)**."
   ]
  }
 ],
 "metadata": {
  "kernelspec": {
   "display_name": "Python 3",
   "language": "python",
   "name": "python3"
  },
  "language_info": {
   "codemirror_mode": {
    "name": "ipython",
    "version": 3
   },
   "file_extension": ".py",
   "mimetype": "text/x-python",
   "name": "python",
   "nbconvert_exporter": "python",
   "pygments_lexer": "ipython3",
   "version": "3.5.3"
  }
 },
 "nbformat": 4,
 "nbformat_minor": 1
}
